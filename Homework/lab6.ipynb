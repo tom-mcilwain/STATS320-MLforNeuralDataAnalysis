{
  "nbformat": 4,
  "nbformat_minor": 0,
  "metadata": {
    "colab": {
      "name": "lab6_TeamStar",
      "provenance": [],
      "collapsed_sections": [],
      "toc_visible": true
    },
    "kernelspec": {
      "name": "python3",
      "display_name": "Python 3"
    },
    "widgets": {
      "application/vnd.jupyter.widget-state+json": {
        "f13b100a8ca94fea805721afd999f3dc": {
          "model_module": "@jupyter-widgets/controls",
          "model_name": "HBoxModel",
          "state": {
            "_view_name": "HBoxView",
            "_dom_classes": [],
            "_model_name": "HBoxModel",
            "_view_module": "@jupyter-widgets/controls",
            "_model_module_version": "1.5.0",
            "_view_count": null,
            "_view_module_version": "1.5.0",
            "box_style": "",
            "layout": "IPY_MODEL_0ec5d9c86d3c44c68dffdf8d58440dec",
            "_model_module": "@jupyter-widgets/controls",
            "children": [
              "IPY_MODEL_ca87e8b7b214410b82554d612135ba05",
              "IPY_MODEL_6e2da66d9dfb4b1aa05cd15ebcb90414"
            ]
          }
        },
        "0ec5d9c86d3c44c68dffdf8d58440dec": {
          "model_module": "@jupyter-widgets/base",
          "model_name": "LayoutModel",
          "state": {
            "_view_name": "LayoutView",
            "grid_template_rows": null,
            "right": null,
            "justify_content": null,
            "_view_module": "@jupyter-widgets/base",
            "overflow": null,
            "_model_module_version": "1.2.0",
            "_view_count": null,
            "flex_flow": null,
            "width": null,
            "min_width": null,
            "border": null,
            "align_items": null,
            "bottom": null,
            "_model_module": "@jupyter-widgets/base",
            "top": null,
            "grid_column": null,
            "overflow_y": null,
            "overflow_x": null,
            "grid_auto_flow": null,
            "grid_area": null,
            "grid_template_columns": null,
            "flex": null,
            "_model_name": "LayoutModel",
            "justify_items": null,
            "grid_row": null,
            "max_height": null,
            "align_content": null,
            "visibility": null,
            "align_self": null,
            "height": null,
            "min_height": null,
            "padding": null,
            "grid_auto_rows": null,
            "grid_gap": null,
            "max_width": null,
            "order": null,
            "_view_module_version": "1.2.0",
            "grid_template_areas": null,
            "object_position": null,
            "object_fit": null,
            "grid_auto_columns": null,
            "margin": null,
            "display": null,
            "left": null
          }
        },
        "ca87e8b7b214410b82554d612135ba05": {
          "model_module": "@jupyter-widgets/controls",
          "model_name": "FloatProgressModel",
          "state": {
            "_view_name": "ProgressView",
            "style": "IPY_MODEL_cb04e408ba98423aaeef3d02eb796c36",
            "_dom_classes": [],
            "description": "100%",
            "_model_name": "FloatProgressModel",
            "bar_style": "success",
            "max": 506,
            "_view_module": "@jupyter-widgets/controls",
            "_model_module_version": "1.5.0",
            "value": 506,
            "_view_count": null,
            "_view_module_version": "1.5.0",
            "orientation": "horizontal",
            "min": 0,
            "description_tooltip": null,
            "_model_module": "@jupyter-widgets/controls",
            "layout": "IPY_MODEL_3fee34683a304d86b488d7c4ab08ebdf"
          }
        },
        "6e2da66d9dfb4b1aa05cd15ebcb90414": {
          "model_module": "@jupyter-widgets/controls",
          "model_name": "HTMLModel",
          "state": {
            "_view_name": "HTMLView",
            "style": "IPY_MODEL_851cfb2df0cf4f5ba3c9a8282fddb11b",
            "_dom_classes": [],
            "description": "",
            "_model_name": "HTMLModel",
            "placeholder": "​",
            "_view_module": "@jupyter-widgets/controls",
            "_model_module_version": "1.5.0",
            "value": " 506/506 [00:00&lt;00:00, 664.45it/s]",
            "_view_count": null,
            "_view_module_version": "1.5.0",
            "description_tooltip": null,
            "_model_module": "@jupyter-widgets/controls",
            "layout": "IPY_MODEL_ea35017dff8f4b99ad21491465048b45"
          }
        },
        "cb04e408ba98423aaeef3d02eb796c36": {
          "model_module": "@jupyter-widgets/controls",
          "model_name": "ProgressStyleModel",
          "state": {
            "_view_name": "StyleView",
            "_model_name": "ProgressStyleModel",
            "description_width": "initial",
            "_view_module": "@jupyter-widgets/base",
            "_model_module_version": "1.5.0",
            "_view_count": null,
            "_view_module_version": "1.2.0",
            "bar_color": null,
            "_model_module": "@jupyter-widgets/controls"
          }
        },
        "3fee34683a304d86b488d7c4ab08ebdf": {
          "model_module": "@jupyter-widgets/base",
          "model_name": "LayoutModel",
          "state": {
            "_view_name": "LayoutView",
            "grid_template_rows": null,
            "right": null,
            "justify_content": null,
            "_view_module": "@jupyter-widgets/base",
            "overflow": null,
            "_model_module_version": "1.2.0",
            "_view_count": null,
            "flex_flow": null,
            "width": null,
            "min_width": null,
            "border": null,
            "align_items": null,
            "bottom": null,
            "_model_module": "@jupyter-widgets/base",
            "top": null,
            "grid_column": null,
            "overflow_y": null,
            "overflow_x": null,
            "grid_auto_flow": null,
            "grid_area": null,
            "grid_template_columns": null,
            "flex": null,
            "_model_name": "LayoutModel",
            "justify_items": null,
            "grid_row": null,
            "max_height": null,
            "align_content": null,
            "visibility": null,
            "align_self": null,
            "height": null,
            "min_height": null,
            "padding": null,
            "grid_auto_rows": null,
            "grid_gap": null,
            "max_width": null,
            "order": null,
            "_view_module_version": "1.2.0",
            "grid_template_areas": null,
            "object_position": null,
            "object_fit": null,
            "grid_auto_columns": null,
            "margin": null,
            "display": null,
            "left": null
          }
        },
        "851cfb2df0cf4f5ba3c9a8282fddb11b": {
          "model_module": "@jupyter-widgets/controls",
          "model_name": "DescriptionStyleModel",
          "state": {
            "_view_name": "StyleView",
            "_model_name": "DescriptionStyleModel",
            "description_width": "",
            "_view_module": "@jupyter-widgets/base",
            "_model_module_version": "1.5.0",
            "_view_count": null,
            "_view_module_version": "1.2.0",
            "_model_module": "@jupyter-widgets/controls"
          }
        },
        "ea35017dff8f4b99ad21491465048b45": {
          "model_module": "@jupyter-widgets/base",
          "model_name": "LayoutModel",
          "state": {
            "_view_name": "LayoutView",
            "grid_template_rows": null,
            "right": null,
            "justify_content": null,
            "_view_module": "@jupyter-widgets/base",
            "overflow": null,
            "_model_module_version": "1.2.0",
            "_view_count": null,
            "flex_flow": null,
            "width": null,
            "min_width": null,
            "border": null,
            "align_items": null,
            "bottom": null,
            "_model_module": "@jupyter-widgets/base",
            "top": null,
            "grid_column": null,
            "overflow_y": null,
            "overflow_x": null,
            "grid_auto_flow": null,
            "grid_area": null,
            "grid_template_columns": null,
            "flex": null,
            "_model_name": "LayoutModel",
            "justify_items": null,
            "grid_row": null,
            "max_height": null,
            "align_content": null,
            "visibility": null,
            "align_self": null,
            "height": null,
            "min_height": null,
            "padding": null,
            "grid_auto_rows": null,
            "grid_gap": null,
            "max_width": null,
            "order": null,
            "_view_module_version": "1.2.0",
            "grid_template_areas": null,
            "object_position": null,
            "object_fit": null,
            "grid_auto_columns": null,
            "margin": null,
            "display": null,
            "left": null
          }
        },
        "78a48351671b41dcaeb296b1cd1d1b68": {
          "model_module": "@jupyter-widgets/controls",
          "model_name": "HBoxModel",
          "state": {
            "_view_name": "HBoxView",
            "_dom_classes": [],
            "_model_name": "HBoxModel",
            "_view_module": "@jupyter-widgets/controls",
            "_model_module_version": "1.5.0",
            "_view_count": null,
            "_view_module_version": "1.5.0",
            "box_style": "",
            "layout": "IPY_MODEL_154cf6ddeb1749cfb099d50d22c1d03d",
            "_model_module": "@jupyter-widgets/controls",
            "children": [
              "IPY_MODEL_f5a2776e452a4a02af22c4129a42ea91",
              "IPY_MODEL_383944fddd9149dca53042dea108e73a"
            ]
          }
        },
        "154cf6ddeb1749cfb099d50d22c1d03d": {
          "model_module": "@jupyter-widgets/base",
          "model_name": "LayoutModel",
          "state": {
            "_view_name": "LayoutView",
            "grid_template_rows": null,
            "right": null,
            "justify_content": null,
            "_view_module": "@jupyter-widgets/base",
            "overflow": null,
            "_model_module_version": "1.2.0",
            "_view_count": null,
            "flex_flow": null,
            "width": null,
            "min_width": null,
            "border": null,
            "align_items": null,
            "bottom": null,
            "_model_module": "@jupyter-widgets/base",
            "top": null,
            "grid_column": null,
            "overflow_y": null,
            "overflow_x": null,
            "grid_auto_flow": null,
            "grid_area": null,
            "grid_template_columns": null,
            "flex": null,
            "_model_name": "LayoutModel",
            "justify_items": null,
            "grid_row": null,
            "max_height": null,
            "align_content": null,
            "visibility": null,
            "align_self": null,
            "height": null,
            "min_height": null,
            "padding": null,
            "grid_auto_rows": null,
            "grid_gap": null,
            "max_width": null,
            "order": null,
            "_view_module_version": "1.2.0",
            "grid_template_areas": null,
            "object_position": null,
            "object_fit": null,
            "grid_auto_columns": null,
            "margin": null,
            "display": null,
            "left": null
          }
        },
        "f5a2776e452a4a02af22c4129a42ea91": {
          "model_module": "@jupyter-widgets/controls",
          "model_name": "FloatProgressModel",
          "state": {
            "_view_name": "ProgressView",
            "style": "IPY_MODEL_21b866a37ec640b98edf925381f33a0f",
            "_dom_classes": [],
            "description": "100%",
            "_model_name": "FloatProgressModel",
            "bar_style": "success",
            "max": 106,
            "_view_module": "@jupyter-widgets/controls",
            "_model_module_version": "1.5.0",
            "value": 106,
            "_view_count": null,
            "_view_module_version": "1.5.0",
            "orientation": "horizontal",
            "min": 0,
            "description_tooltip": null,
            "_model_module": "@jupyter-widgets/controls",
            "layout": "IPY_MODEL_eccedef60c9a432abb76c42e92c46e89"
          }
        },
        "383944fddd9149dca53042dea108e73a": {
          "model_module": "@jupyter-widgets/controls",
          "model_name": "HTMLModel",
          "state": {
            "_view_name": "HTMLView",
            "style": "IPY_MODEL_5b9076ab749b4f74a8ca0257bdd0cfe0",
            "_dom_classes": [],
            "description": "",
            "_model_name": "HTMLModel",
            "placeholder": "​",
            "_view_module": "@jupyter-widgets/controls",
            "_model_module_version": "1.5.0",
            "value": " 106/106 [00:00&lt;00:00, 133.75it/s]",
            "_view_count": null,
            "_view_module_version": "1.5.0",
            "description_tooltip": null,
            "_model_module": "@jupyter-widgets/controls",
            "layout": "IPY_MODEL_dc7e48d310c54c3dab5c5be2e31f2db4"
          }
        },
        "21b866a37ec640b98edf925381f33a0f": {
          "model_module": "@jupyter-widgets/controls",
          "model_name": "ProgressStyleModel",
          "state": {
            "_view_name": "StyleView",
            "_model_name": "ProgressStyleModel",
            "description_width": "initial",
            "_view_module": "@jupyter-widgets/base",
            "_model_module_version": "1.5.0",
            "_view_count": null,
            "_view_module_version": "1.2.0",
            "bar_color": null,
            "_model_module": "@jupyter-widgets/controls"
          }
        },
        "eccedef60c9a432abb76c42e92c46e89": {
          "model_module": "@jupyter-widgets/base",
          "model_name": "LayoutModel",
          "state": {
            "_view_name": "LayoutView",
            "grid_template_rows": null,
            "right": null,
            "justify_content": null,
            "_view_module": "@jupyter-widgets/base",
            "overflow": null,
            "_model_module_version": "1.2.0",
            "_view_count": null,
            "flex_flow": null,
            "width": null,
            "min_width": null,
            "border": null,
            "align_items": null,
            "bottom": null,
            "_model_module": "@jupyter-widgets/base",
            "top": null,
            "grid_column": null,
            "overflow_y": null,
            "overflow_x": null,
            "grid_auto_flow": null,
            "grid_area": null,
            "grid_template_columns": null,
            "flex": null,
            "_model_name": "LayoutModel",
            "justify_items": null,
            "grid_row": null,
            "max_height": null,
            "align_content": null,
            "visibility": null,
            "align_self": null,
            "height": null,
            "min_height": null,
            "padding": null,
            "grid_auto_rows": null,
            "grid_gap": null,
            "max_width": null,
            "order": null,
            "_view_module_version": "1.2.0",
            "grid_template_areas": null,
            "object_position": null,
            "object_fit": null,
            "grid_auto_columns": null,
            "margin": null,
            "display": null,
            "left": null
          }
        },
        "5b9076ab749b4f74a8ca0257bdd0cfe0": {
          "model_module": "@jupyter-widgets/controls",
          "model_name": "DescriptionStyleModel",
          "state": {
            "_view_name": "StyleView",
            "_model_name": "DescriptionStyleModel",
            "description_width": "",
            "_view_module": "@jupyter-widgets/base",
            "_model_module_version": "1.5.0",
            "_view_count": null,
            "_view_module_version": "1.2.0",
            "_model_module": "@jupyter-widgets/controls"
          }
        },
        "dc7e48d310c54c3dab5c5be2e31f2db4": {
          "model_module": "@jupyter-widgets/base",
          "model_name": "LayoutModel",
          "state": {
            "_view_name": "LayoutView",
            "grid_template_rows": null,
            "right": null,
            "justify_content": null,
            "_view_module": "@jupyter-widgets/base",
            "overflow": null,
            "_model_module_version": "1.2.0",
            "_view_count": null,
            "flex_flow": null,
            "width": null,
            "min_width": null,
            "border": null,
            "align_items": null,
            "bottom": null,
            "_model_module": "@jupyter-widgets/base",
            "top": null,
            "grid_column": null,
            "overflow_y": null,
            "overflow_x": null,
            "grid_auto_flow": null,
            "grid_area": null,
            "grid_template_columns": null,
            "flex": null,
            "_model_name": "LayoutModel",
            "justify_items": null,
            "grid_row": null,
            "max_height": null,
            "align_content": null,
            "visibility": null,
            "align_self": null,
            "height": null,
            "min_height": null,
            "padding": null,
            "grid_auto_rows": null,
            "grid_gap": null,
            "max_width": null,
            "order": null,
            "_view_module_version": "1.2.0",
            "grid_template_areas": null,
            "object_position": null,
            "object_fit": null,
            "grid_auto_columns": null,
            "margin": null,
            "display": null,
            "left": null
          }
        },
        "713267ff434440019fb803176d7d26cc": {
          "model_module": "@jupyter-widgets/controls",
          "model_name": "HBoxModel",
          "state": {
            "_view_name": "HBoxView",
            "_dom_classes": [],
            "_model_name": "HBoxModel",
            "_view_module": "@jupyter-widgets/controls",
            "_model_module_version": "1.5.0",
            "_view_count": null,
            "_view_module_version": "1.5.0",
            "box_style": "",
            "layout": "IPY_MODEL_137d30f77dfb43ccabf7a72f78c0f9e6",
            "_model_module": "@jupyter-widgets/controls",
            "children": [
              "IPY_MODEL_6a0a26dc1e544579b70557d200349be4",
              "IPY_MODEL_8acf6ca562534d3293d427e09ab079c9"
            ]
          }
        },
        "137d30f77dfb43ccabf7a72f78c0f9e6": {
          "model_module": "@jupyter-widgets/base",
          "model_name": "LayoutModel",
          "state": {
            "_view_name": "LayoutView",
            "grid_template_rows": null,
            "right": null,
            "justify_content": null,
            "_view_module": "@jupyter-widgets/base",
            "overflow": null,
            "_model_module_version": "1.2.0",
            "_view_count": null,
            "flex_flow": null,
            "width": null,
            "min_width": null,
            "border": null,
            "align_items": null,
            "bottom": null,
            "_model_module": "@jupyter-widgets/base",
            "top": null,
            "grid_column": null,
            "overflow_y": null,
            "overflow_x": null,
            "grid_auto_flow": null,
            "grid_area": null,
            "grid_template_columns": null,
            "flex": null,
            "_model_name": "LayoutModel",
            "justify_items": null,
            "grid_row": null,
            "max_height": null,
            "align_content": null,
            "visibility": null,
            "align_self": null,
            "height": null,
            "min_height": null,
            "padding": null,
            "grid_auto_rows": null,
            "grid_gap": null,
            "max_width": null,
            "order": null,
            "_view_module_version": "1.2.0",
            "grid_template_areas": null,
            "object_position": null,
            "object_fit": null,
            "grid_auto_columns": null,
            "margin": null,
            "display": null,
            "left": null
          }
        },
        "6a0a26dc1e544579b70557d200349be4": {
          "model_module": "@jupyter-widgets/controls",
          "model_name": "FloatProgressModel",
          "state": {
            "_view_name": "ProgressView",
            "style": "IPY_MODEL_de94e56c986d4b2b9840ca810d43ee41",
            "_dom_classes": [],
            "description": "100%",
            "_model_name": "FloatProgressModel",
            "bar_style": "success",
            "max": 106,
            "_view_module": "@jupyter-widgets/controls",
            "_model_module_version": "1.5.0",
            "value": 106,
            "_view_count": null,
            "_view_module_version": "1.5.0",
            "orientation": "horizontal",
            "min": 0,
            "description_tooltip": null,
            "_model_module": "@jupyter-widgets/controls",
            "layout": "IPY_MODEL_5b77f1c1a50a4bc7becc4a6c739e4417"
          }
        },
        "8acf6ca562534d3293d427e09ab079c9": {
          "model_module": "@jupyter-widgets/controls",
          "model_name": "HTMLModel",
          "state": {
            "_view_name": "HTMLView",
            "style": "IPY_MODEL_78d6b226cdf84ad39bb08be2bac03a14",
            "_dom_classes": [],
            "description": "",
            "_model_name": "HTMLModel",
            "placeholder": "​",
            "_view_module": "@jupyter-widgets/controls",
            "_model_module_version": "1.5.0",
            "value": " 106/106 [2:42:00&lt;00:00, 91.71s/it]",
            "_view_count": null,
            "_view_module_version": "1.5.0",
            "description_tooltip": null,
            "_model_module": "@jupyter-widgets/controls",
            "layout": "IPY_MODEL_b4650773d75742f58c8e17b5346bc5d9"
          }
        },
        "de94e56c986d4b2b9840ca810d43ee41": {
          "model_module": "@jupyter-widgets/controls",
          "model_name": "ProgressStyleModel",
          "state": {
            "_view_name": "StyleView",
            "_model_name": "ProgressStyleModel",
            "description_width": "initial",
            "_view_module": "@jupyter-widgets/base",
            "_model_module_version": "1.5.0",
            "_view_count": null,
            "_view_module_version": "1.2.0",
            "bar_color": null,
            "_model_module": "@jupyter-widgets/controls"
          }
        },
        "5b77f1c1a50a4bc7becc4a6c739e4417": {
          "model_module": "@jupyter-widgets/base",
          "model_name": "LayoutModel",
          "state": {
            "_view_name": "LayoutView",
            "grid_template_rows": null,
            "right": null,
            "justify_content": null,
            "_view_module": "@jupyter-widgets/base",
            "overflow": null,
            "_model_module_version": "1.2.0",
            "_view_count": null,
            "flex_flow": null,
            "width": null,
            "min_width": null,
            "border": null,
            "align_items": null,
            "bottom": null,
            "_model_module": "@jupyter-widgets/base",
            "top": null,
            "grid_column": null,
            "overflow_y": null,
            "overflow_x": null,
            "grid_auto_flow": null,
            "grid_area": null,
            "grid_template_columns": null,
            "flex": null,
            "_model_name": "LayoutModel",
            "justify_items": null,
            "grid_row": null,
            "max_height": null,
            "align_content": null,
            "visibility": null,
            "align_self": null,
            "height": null,
            "min_height": null,
            "padding": null,
            "grid_auto_rows": null,
            "grid_gap": null,
            "max_width": null,
            "order": null,
            "_view_module_version": "1.2.0",
            "grid_template_areas": null,
            "object_position": null,
            "object_fit": null,
            "grid_auto_columns": null,
            "margin": null,
            "display": null,
            "left": null
          }
        },
        "78d6b226cdf84ad39bb08be2bac03a14": {
          "model_module": "@jupyter-widgets/controls",
          "model_name": "DescriptionStyleModel",
          "state": {
            "_view_name": "StyleView",
            "_model_name": "DescriptionStyleModel",
            "description_width": "",
            "_view_module": "@jupyter-widgets/base",
            "_model_module_version": "1.5.0",
            "_view_count": null,
            "_view_module_version": "1.2.0",
            "_model_module": "@jupyter-widgets/controls"
          }
        },
        "b4650773d75742f58c8e17b5346bc5d9": {
          "model_module": "@jupyter-widgets/base",
          "model_name": "LayoutModel",
          "state": {
            "_view_name": "LayoutView",
            "grid_template_rows": null,
            "right": null,
            "justify_content": null,
            "_view_module": "@jupyter-widgets/base",
            "overflow": null,
            "_model_module_version": "1.2.0",
            "_view_count": null,
            "flex_flow": null,
            "width": null,
            "min_width": null,
            "border": null,
            "align_items": null,
            "bottom": null,
            "_model_module": "@jupyter-widgets/base",
            "top": null,
            "grid_column": null,
            "overflow_y": null,
            "overflow_x": null,
            "grid_auto_flow": null,
            "grid_area": null,
            "grid_template_columns": null,
            "flex": null,
            "_model_name": "LayoutModel",
            "justify_items": null,
            "grid_row": null,
            "max_height": null,
            "align_content": null,
            "visibility": null,
            "align_self": null,
            "height": null,
            "min_height": null,
            "padding": null,
            "grid_auto_rows": null,
            "grid_gap": null,
            "max_width": null,
            "order": null,
            "_view_module_version": "1.2.0",
            "grid_template_areas": null,
            "object_position": null,
            "object_fit": null,
            "grid_auto_columns": null,
            "margin": null,
            "display": null,
            "left": null
          }
        },
        "294a66ae040940d0b93ab69b40d080b9": {
          "model_module": "@jupyter-widgets/controls",
          "model_name": "HBoxModel",
          "state": {
            "_view_name": "HBoxView",
            "_dom_classes": [],
            "_model_name": "HBoxModel",
            "_view_module": "@jupyter-widgets/controls",
            "_model_module_version": "1.5.0",
            "_view_count": null,
            "_view_module_version": "1.5.0",
            "box_style": "",
            "layout": "IPY_MODEL_4b2effe5b19a4fa2acbc895c4ac874d1",
            "_model_module": "@jupyter-widgets/controls",
            "children": [
              "IPY_MODEL_9f1f27cd301f48f482e8c14b011e232a",
              "IPY_MODEL_31d3f627d8a54428976ca5cb5e4507f9"
            ]
          }
        },
        "4b2effe5b19a4fa2acbc895c4ac874d1": {
          "model_module": "@jupyter-widgets/base",
          "model_name": "LayoutModel",
          "state": {
            "_view_name": "LayoutView",
            "grid_template_rows": null,
            "right": null,
            "justify_content": null,
            "_view_module": "@jupyter-widgets/base",
            "overflow": null,
            "_model_module_version": "1.2.0",
            "_view_count": null,
            "flex_flow": null,
            "width": null,
            "min_width": null,
            "border": null,
            "align_items": null,
            "bottom": null,
            "_model_module": "@jupyter-widgets/base",
            "top": null,
            "grid_column": null,
            "overflow_y": null,
            "overflow_x": null,
            "grid_auto_flow": null,
            "grid_area": null,
            "grid_template_columns": null,
            "flex": null,
            "_model_name": "LayoutModel",
            "justify_items": null,
            "grid_row": null,
            "max_height": null,
            "align_content": null,
            "visibility": null,
            "align_self": null,
            "height": null,
            "min_height": null,
            "padding": null,
            "grid_auto_rows": null,
            "grid_gap": null,
            "max_width": null,
            "order": null,
            "_view_module_version": "1.2.0",
            "grid_template_areas": null,
            "object_position": null,
            "object_fit": null,
            "grid_auto_columns": null,
            "margin": null,
            "display": null,
            "left": null
          }
        },
        "9f1f27cd301f48f482e8c14b011e232a": {
          "model_module": "@jupyter-widgets/controls",
          "model_name": "FloatProgressModel",
          "state": {
            "_view_name": "ProgressView",
            "style": "IPY_MODEL_eb61305021b845219202b4919ec5c48c",
            "_dom_classes": [],
            "description": "Epoch 099 Train 0.7691 Val 0.9594: 100%",
            "_model_name": "FloatProgressModel",
            "bar_style": "success",
            "max": 100,
            "_view_module": "@jupyter-widgets/controls",
            "_model_module_version": "1.5.0",
            "value": 100,
            "_view_count": null,
            "_view_module_version": "1.5.0",
            "orientation": "horizontal",
            "min": 0,
            "description_tooltip": null,
            "_model_module": "@jupyter-widgets/controls",
            "layout": "IPY_MODEL_46b255ba5de44ae386e8fd93b3e5fcdb"
          }
        },
        "31d3f627d8a54428976ca5cb5e4507f9": {
          "model_module": "@jupyter-widgets/controls",
          "model_name": "HTMLModel",
          "state": {
            "_view_name": "HTMLView",
            "style": "IPY_MODEL_97202459a0c54bbfba84af88e997d88d",
            "_dom_classes": [],
            "description": "",
            "_model_name": "HTMLModel",
            "placeholder": "​",
            "_view_module": "@jupyter-widgets/controls",
            "_model_module_version": "1.5.0",
            "value": " 100/100 [05:05&lt;00:00,  3.06s/it]",
            "_view_count": null,
            "_view_module_version": "1.5.0",
            "description_tooltip": null,
            "_model_module": "@jupyter-widgets/controls",
            "layout": "IPY_MODEL_28df7027529b40b78fd1e19f1fe1b386"
          }
        },
        "eb61305021b845219202b4919ec5c48c": {
          "model_module": "@jupyter-widgets/controls",
          "model_name": "ProgressStyleModel",
          "state": {
            "_view_name": "StyleView",
            "_model_name": "ProgressStyleModel",
            "description_width": "initial",
            "_view_module": "@jupyter-widgets/base",
            "_model_module_version": "1.5.0",
            "_view_count": null,
            "_view_module_version": "1.2.0",
            "bar_color": null,
            "_model_module": "@jupyter-widgets/controls"
          }
        },
        "46b255ba5de44ae386e8fd93b3e5fcdb": {
          "model_module": "@jupyter-widgets/base",
          "model_name": "LayoutModel",
          "state": {
            "_view_name": "LayoutView",
            "grid_template_rows": null,
            "right": null,
            "justify_content": null,
            "_view_module": "@jupyter-widgets/base",
            "overflow": null,
            "_model_module_version": "1.2.0",
            "_view_count": null,
            "flex_flow": null,
            "width": null,
            "min_width": null,
            "border": null,
            "align_items": null,
            "bottom": null,
            "_model_module": "@jupyter-widgets/base",
            "top": null,
            "grid_column": null,
            "overflow_y": null,
            "overflow_x": null,
            "grid_auto_flow": null,
            "grid_area": null,
            "grid_template_columns": null,
            "flex": null,
            "_model_name": "LayoutModel",
            "justify_items": null,
            "grid_row": null,
            "max_height": null,
            "align_content": null,
            "visibility": null,
            "align_self": null,
            "height": null,
            "min_height": null,
            "padding": null,
            "grid_auto_rows": null,
            "grid_gap": null,
            "max_width": null,
            "order": null,
            "_view_module_version": "1.2.0",
            "grid_template_areas": null,
            "object_position": null,
            "object_fit": null,
            "grid_auto_columns": null,
            "margin": null,
            "display": null,
            "left": null
          }
        },
        "97202459a0c54bbfba84af88e997d88d": {
          "model_module": "@jupyter-widgets/controls",
          "model_name": "DescriptionStyleModel",
          "state": {
            "_view_name": "StyleView",
            "_model_name": "DescriptionStyleModel",
            "description_width": "",
            "_view_module": "@jupyter-widgets/base",
            "_model_module_version": "1.5.0",
            "_view_count": null,
            "_view_module_version": "1.2.0",
            "_model_module": "@jupyter-widgets/controls"
          }
        },
        "28df7027529b40b78fd1e19f1fe1b386": {
          "model_module": "@jupyter-widgets/base",
          "model_name": "LayoutModel",
          "state": {
            "_view_name": "LayoutView",
            "grid_template_rows": null,
            "right": null,
            "justify_content": null,
            "_view_module": "@jupyter-widgets/base",
            "overflow": null,
            "_model_module_version": "1.2.0",
            "_view_count": null,
            "flex_flow": null,
            "width": null,
            "min_width": null,
            "border": null,
            "align_items": null,
            "bottom": null,
            "_model_module": "@jupyter-widgets/base",
            "top": null,
            "grid_column": null,
            "overflow_y": null,
            "overflow_x": null,
            "grid_auto_flow": null,
            "grid_area": null,
            "grid_template_columns": null,
            "flex": null,
            "_model_name": "LayoutModel",
            "justify_items": null,
            "grid_row": null,
            "max_height": null,
            "align_content": null,
            "visibility": null,
            "align_self": null,
            "height": null,
            "min_height": null,
            "padding": null,
            "grid_auto_rows": null,
            "grid_gap": null,
            "max_width": null,
            "order": null,
            "_view_module_version": "1.2.0",
            "grid_template_areas": null,
            "object_position": null,
            "object_fit": null,
            "grid_auto_columns": null,
            "margin": null,
            "display": null,
            "left": null
          }
        },
        "9ab086afc6054a1a99ccd91b61f60ec7": {
          "model_module": "@jupyter-widgets/controls",
          "model_name": "HBoxModel",
          "state": {
            "_view_name": "HBoxView",
            "_dom_classes": [],
            "_model_name": "HBoxModel",
            "_view_module": "@jupyter-widgets/controls",
            "_model_module_version": "1.5.0",
            "_view_count": null,
            "_view_module_version": "1.5.0",
            "box_style": "",
            "layout": "IPY_MODEL_83b14bda3bf14f25ac2d7256eb81ce2f",
            "_model_module": "@jupyter-widgets/controls",
            "children": [
              "IPY_MODEL_1b9a504ca9b742248a37ac1cc3cf776d",
              "IPY_MODEL_f37ff10c23bb4404957213f1d2e27bca"
            ]
          }
        },
        "83b14bda3bf14f25ac2d7256eb81ce2f": {
          "model_module": "@jupyter-widgets/base",
          "model_name": "LayoutModel",
          "state": {
            "_view_name": "LayoutView",
            "grid_template_rows": null,
            "right": null,
            "justify_content": null,
            "_view_module": "@jupyter-widgets/base",
            "overflow": null,
            "_model_module_version": "1.2.0",
            "_view_count": null,
            "flex_flow": null,
            "width": null,
            "min_width": null,
            "border": null,
            "align_items": null,
            "bottom": null,
            "_model_module": "@jupyter-widgets/base",
            "top": null,
            "grid_column": null,
            "overflow_y": null,
            "overflow_x": null,
            "grid_auto_flow": null,
            "grid_area": null,
            "grid_template_columns": null,
            "flex": null,
            "_model_name": "LayoutModel",
            "justify_items": null,
            "grid_row": null,
            "max_height": null,
            "align_content": null,
            "visibility": null,
            "align_self": null,
            "height": null,
            "min_height": null,
            "padding": null,
            "grid_auto_rows": null,
            "grid_gap": null,
            "max_width": null,
            "order": null,
            "_view_module_version": "1.2.0",
            "grid_template_areas": null,
            "object_position": null,
            "object_fit": null,
            "grid_auto_columns": null,
            "margin": null,
            "display": null,
            "left": null
          }
        },
        "1b9a504ca9b742248a37ac1cc3cf776d": {
          "model_module": "@jupyter-widgets/controls",
          "model_name": "FloatProgressModel",
          "state": {
            "_view_name": "ProgressView",
            "style": "IPY_MODEL_ea98fc8d258d4f24b527157c3634647c",
            "_dom_classes": [],
            "description": "Batch: 100%",
            "_model_name": "FloatProgressModel",
            "bar_style": "",
            "max": 300,
            "_view_module": "@jupyter-widgets/controls",
            "_model_module_version": "1.5.0",
            "value": 300,
            "_view_count": null,
            "_view_module_version": "1.5.0",
            "orientation": "horizontal",
            "min": 0,
            "description_tooltip": null,
            "_model_module": "@jupyter-widgets/controls",
            "layout": "IPY_MODEL_8b35cab811504919954161c4ef5c0547"
          }
        },
        "f37ff10c23bb4404957213f1d2e27bca": {
          "model_module": "@jupyter-widgets/controls",
          "model_name": "HTMLModel",
          "state": {
            "_view_name": "HTMLView",
            "style": "IPY_MODEL_c61d3be7628f42a1ab5e31c05735b0fc",
            "_dom_classes": [],
            "description": "",
            "_model_name": "HTMLModel",
            "placeholder": "​",
            "_view_module": "@jupyter-widgets/controls",
            "_model_module_version": "1.5.0",
            "value": " 300/300 [00:12&lt;00:00, 204.19it/s]",
            "_view_count": null,
            "_view_module_version": "1.5.0",
            "description_tooltip": null,
            "_model_module": "@jupyter-widgets/controls",
            "layout": "IPY_MODEL_cfd01065cfbe4af393a7e3261eb51513"
          }
        },
        "ea98fc8d258d4f24b527157c3634647c": {
          "model_module": "@jupyter-widgets/controls",
          "model_name": "ProgressStyleModel",
          "state": {
            "_view_name": "StyleView",
            "_model_name": "ProgressStyleModel",
            "description_width": "initial",
            "_view_module": "@jupyter-widgets/base",
            "_model_module_version": "1.5.0",
            "_view_count": null,
            "_view_module_version": "1.2.0",
            "bar_color": null,
            "_model_module": "@jupyter-widgets/controls"
          }
        },
        "8b35cab811504919954161c4ef5c0547": {
          "model_module": "@jupyter-widgets/base",
          "model_name": "LayoutModel",
          "state": {
            "_view_name": "LayoutView",
            "grid_template_rows": null,
            "right": null,
            "justify_content": null,
            "_view_module": "@jupyter-widgets/base",
            "overflow": null,
            "_model_module_version": "1.2.0",
            "_view_count": null,
            "flex_flow": null,
            "width": null,
            "min_width": null,
            "border": null,
            "align_items": null,
            "bottom": null,
            "_model_module": "@jupyter-widgets/base",
            "top": null,
            "grid_column": null,
            "overflow_y": null,
            "overflow_x": null,
            "grid_auto_flow": null,
            "grid_area": null,
            "grid_template_columns": null,
            "flex": null,
            "_model_name": "LayoutModel",
            "justify_items": null,
            "grid_row": null,
            "max_height": null,
            "align_content": null,
            "visibility": null,
            "align_self": null,
            "height": null,
            "min_height": null,
            "padding": null,
            "grid_auto_rows": null,
            "grid_gap": null,
            "max_width": null,
            "order": null,
            "_view_module_version": "1.2.0",
            "grid_template_areas": null,
            "object_position": null,
            "object_fit": null,
            "grid_auto_columns": null,
            "margin": null,
            "display": null,
            "left": null
          }
        },
        "c61d3be7628f42a1ab5e31c05735b0fc": {
          "model_module": "@jupyter-widgets/controls",
          "model_name": "DescriptionStyleModel",
          "state": {
            "_view_name": "StyleView",
            "_model_name": "DescriptionStyleModel",
            "description_width": "",
            "_view_module": "@jupyter-widgets/base",
            "_model_module_version": "1.5.0",
            "_view_count": null,
            "_view_module_version": "1.2.0",
            "_model_module": "@jupyter-widgets/controls"
          }
        },
        "cfd01065cfbe4af393a7e3261eb51513": {
          "model_module": "@jupyter-widgets/base",
          "model_name": "LayoutModel",
          "state": {
            "_view_name": "LayoutView",
            "grid_template_rows": null,
            "right": null,
            "justify_content": null,
            "_view_module": "@jupyter-widgets/base",
            "overflow": null,
            "_model_module_version": "1.2.0",
            "_view_count": null,
            "flex_flow": null,
            "width": null,
            "min_width": null,
            "border": null,
            "align_items": null,
            "bottom": null,
            "_model_module": "@jupyter-widgets/base",
            "top": null,
            "grid_column": null,
            "overflow_y": null,
            "overflow_x": null,
            "grid_auto_flow": null,
            "grid_area": null,
            "grid_template_columns": null,
            "flex": null,
            "_model_name": "LayoutModel",
            "justify_items": null,
            "grid_row": null,
            "max_height": null,
            "align_content": null,
            "visibility": null,
            "align_self": null,
            "height": null,
            "min_height": null,
            "padding": null,
            "grid_auto_rows": null,
            "grid_gap": null,
            "max_width": null,
            "order": null,
            "_view_module_version": "1.2.0",
            "grid_template_areas": null,
            "object_position": null,
            "object_fit": null,
            "grid_auto_columns": null,
            "margin": null,
            "display": null,
            "left": null
          }
        },
        "cc95b6e381fc482a94a081d66f46eec5": {
          "model_module": "@jupyter-widgets/controls",
          "model_name": "HBoxModel",
          "state": {
            "_view_name": "HBoxView",
            "_dom_classes": [],
            "_model_name": "HBoxModel",
            "_view_module": "@jupyter-widgets/controls",
            "_model_module_version": "1.5.0",
            "_view_count": null,
            "_view_module_version": "1.5.0",
            "box_style": "",
            "layout": "IPY_MODEL_ff33ff9fd8f048448736ae1781a6ee38",
            "_model_module": "@jupyter-widgets/controls",
            "children": [
              "IPY_MODEL_96694f32d20a4b62a81b857d5f370b9e",
              "IPY_MODEL_204f0bdc490e465d8b0c526ac8335b71"
            ]
          }
        },
        "ff33ff9fd8f048448736ae1781a6ee38": {
          "model_module": "@jupyter-widgets/base",
          "model_name": "LayoutModel",
          "state": {
            "_view_name": "LayoutView",
            "grid_template_rows": null,
            "right": null,
            "justify_content": null,
            "_view_module": "@jupyter-widgets/base",
            "overflow": null,
            "_model_module_version": "1.2.0",
            "_view_count": null,
            "flex_flow": null,
            "width": null,
            "min_width": null,
            "border": null,
            "align_items": null,
            "bottom": null,
            "_model_module": "@jupyter-widgets/base",
            "top": null,
            "grid_column": null,
            "overflow_y": null,
            "overflow_x": null,
            "grid_auto_flow": null,
            "grid_area": null,
            "grid_template_columns": null,
            "flex": null,
            "_model_name": "LayoutModel",
            "justify_items": null,
            "grid_row": null,
            "max_height": null,
            "align_content": null,
            "visibility": null,
            "align_self": null,
            "height": null,
            "min_height": null,
            "padding": null,
            "grid_auto_rows": null,
            "grid_gap": null,
            "max_width": null,
            "order": null,
            "_view_module_version": "1.2.0",
            "grid_template_areas": null,
            "object_position": null,
            "object_fit": null,
            "grid_auto_columns": null,
            "margin": null,
            "display": null,
            "left": null
          }
        },
        "96694f32d20a4b62a81b857d5f370b9e": {
          "model_module": "@jupyter-widgets/controls",
          "model_name": "FloatProgressModel",
          "state": {
            "_view_name": "ProgressView",
            "style": "IPY_MODEL_770259cf3521467d85baf6f900d5711e",
            "_dom_classes": [],
            "description": "100%",
            "_model_name": "FloatProgressModel",
            "bar_style": "success",
            "max": 106,
            "_view_module": "@jupyter-widgets/controls",
            "_model_module_version": "1.5.0",
            "value": 106,
            "_view_count": null,
            "_view_module_version": "1.5.0",
            "orientation": "horizontal",
            "min": 0,
            "description_tooltip": null,
            "_model_module": "@jupyter-widgets/controls",
            "layout": "IPY_MODEL_c7cfb957f3ba40d4b17399088159f7dd"
          }
        },
        "204f0bdc490e465d8b0c526ac8335b71": {
          "model_module": "@jupyter-widgets/controls",
          "model_name": "HTMLModel",
          "state": {
            "_view_name": "HTMLView",
            "style": "IPY_MODEL_6929ac61b73046da9bfeefab1e1f43e3",
            "_dom_classes": [],
            "description": "",
            "_model_name": "HTMLModel",
            "placeholder": "​",
            "_view_module": "@jupyter-widgets/controls",
            "_model_module_version": "1.5.0",
            "value": " 106/106 [01:45&lt;00:00,  1.00it/s]",
            "_view_count": null,
            "_view_module_version": "1.5.0",
            "description_tooltip": null,
            "_model_module": "@jupyter-widgets/controls",
            "layout": "IPY_MODEL_57248d49697f495984490d39e550f3af"
          }
        },
        "770259cf3521467d85baf6f900d5711e": {
          "model_module": "@jupyter-widgets/controls",
          "model_name": "ProgressStyleModel",
          "state": {
            "_view_name": "StyleView",
            "_model_name": "ProgressStyleModel",
            "description_width": "initial",
            "_view_module": "@jupyter-widgets/base",
            "_model_module_version": "1.5.0",
            "_view_count": null,
            "_view_module_version": "1.2.0",
            "bar_color": null,
            "_model_module": "@jupyter-widgets/controls"
          }
        },
        "c7cfb957f3ba40d4b17399088159f7dd": {
          "model_module": "@jupyter-widgets/base",
          "model_name": "LayoutModel",
          "state": {
            "_view_name": "LayoutView",
            "grid_template_rows": null,
            "right": null,
            "justify_content": null,
            "_view_module": "@jupyter-widgets/base",
            "overflow": null,
            "_model_module_version": "1.2.0",
            "_view_count": null,
            "flex_flow": null,
            "width": null,
            "min_width": null,
            "border": null,
            "align_items": null,
            "bottom": null,
            "_model_module": "@jupyter-widgets/base",
            "top": null,
            "grid_column": null,
            "overflow_y": null,
            "overflow_x": null,
            "grid_auto_flow": null,
            "grid_area": null,
            "grid_template_columns": null,
            "flex": null,
            "_model_name": "LayoutModel",
            "justify_items": null,
            "grid_row": null,
            "max_height": null,
            "align_content": null,
            "visibility": null,
            "align_self": null,
            "height": null,
            "min_height": null,
            "padding": null,
            "grid_auto_rows": null,
            "grid_gap": null,
            "max_width": null,
            "order": null,
            "_view_module_version": "1.2.0",
            "grid_template_areas": null,
            "object_position": null,
            "object_fit": null,
            "grid_auto_columns": null,
            "margin": null,
            "display": null,
            "left": null
          }
        },
        "6929ac61b73046da9bfeefab1e1f43e3": {
          "model_module": "@jupyter-widgets/controls",
          "model_name": "DescriptionStyleModel",
          "state": {
            "_view_name": "StyleView",
            "_model_name": "DescriptionStyleModel",
            "description_width": "",
            "_view_module": "@jupyter-widgets/base",
            "_model_module_version": "1.5.0",
            "_view_count": null,
            "_view_module_version": "1.2.0",
            "_model_module": "@jupyter-widgets/controls"
          }
        },
        "57248d49697f495984490d39e550f3af": {
          "model_module": "@jupyter-widgets/base",
          "model_name": "LayoutModel",
          "state": {
            "_view_name": "LayoutView",
            "grid_template_rows": null,
            "right": null,
            "justify_content": null,
            "_view_module": "@jupyter-widgets/base",
            "overflow": null,
            "_model_module_version": "1.2.0",
            "_view_count": null,
            "flex_flow": null,
            "width": null,
            "min_width": null,
            "border": null,
            "align_items": null,
            "bottom": null,
            "_model_module": "@jupyter-widgets/base",
            "top": null,
            "grid_column": null,
            "overflow_y": null,
            "overflow_x": null,
            "grid_auto_flow": null,
            "grid_area": null,
            "grid_template_columns": null,
            "flex": null,
            "_model_name": "LayoutModel",
            "justify_items": null,
            "grid_row": null,
            "max_height": null,
            "align_content": null,
            "visibility": null,
            "align_self": null,
            "height": null,
            "min_height": null,
            "padding": null,
            "grid_auto_rows": null,
            "grid_gap": null,
            "max_width": null,
            "order": null,
            "_view_module_version": "1.2.0",
            "grid_template_areas": null,
            "object_position": null,
            "object_fit": null,
            "grid_auto_columns": null,
            "margin": null,
            "display": null,
            "left": null
          }
        }
      }
    }
  },
  "cells": [
    {
      "cell_type": "markdown",
      "metadata": {
        "id": "kV7RUxCC_Xw9"
      },
      "source": [
        "# Lab 6: Decoding movement from motor cortex recordings\n",
        "\n",
        "**STATS320: Machine Learning Methods for Neural Data Analysis**\n",
        "\n",
        "_Stanford University. Winter, 2021._\n",
        "\n",
        "---\n",
        "\n",
        "**Team Name:** Team Star\n",
        "\n",
        "**Team Members:** Tom McIlwain\n",
        "\n",
        "*Due: 11:59pm Thursday, Feb 25, 2021 via GradeScope*\n",
        "\n",
        "---\n",
        "\n",
        "Last week we developed nonlinear _encoder_ models for predicting neural responses to sensory stimuli.  This week we'll develop _decoder_ models for inferring movements from neural spike trains.  One way to decode is via Bayesian inference: if we have a strong encoding model and a good prior distribution on movements, we can combine them to infer the posterior distribution of movements given spikes. This allows us to build constraints into the prior; e.g. that movements tend to be smooth. Ultimately, decoding is just another regression problem, and the Bayesian approach offers just one way of constructing a conditional distribution of movements given spikes. In this lab, we'll start with a Bayesian approach and then take a step back and construct a \"direct\" decoder that captures the dynamical structure of the Bayesian models while also capturing nonlinear features of the spike train.\n",
        "\n",
        "We'll use a dataset from the [Shenoy Lab](https://shenoy.people.stanford.edu/) (Stanford University) consisting of a 96-channel Utah array recording from motor cortex of a non-human primate performing a center-out reaching task. The data and a related model are described in (Gilja\\*, Nuyujukian\\*, et al, 2012).\n",
        "\n",
        "\n",
        "### References\n",
        "Gilja, Vikash, Paul Nuyujukian, Cindy A. Chestek, John P. Cunningham, Byron M. Yu, Joline M. Fan, Mark M. Churchland, et al. 2012. “A High-Performance Neural Prosthesis Enabled by Control Algorithm Design.” _Nature Neuroscience_ 15 (12): 1752–57.\n"
      ]
    },
    {
      "cell_type": "markdown",
      "metadata": {
        "id": "FBZ8NkZXAj9P"
      },
      "source": [
        "# Environment Setup"
      ]
    },
    {
      "cell_type": "code",
      "metadata": {
        "id": "LATqLgaQ3Td1"
      },
      "source": [
        "import numpy as np\n",
        "from tqdm.auto import trange\n",
        "import matplotlib.pyplot as plt\n",
        "import seaborn as sns\n",
        "from copy import deepcopy\n",
        "\n",
        "from scipy.io import loadmat\n",
        "from scipy.interpolate import interp1d\n",
        "from scipy.ndimage import gaussian_filter1d\n",
        "\n",
        "from sklearn.linear_model import LinearRegression\n",
        "from sklearn.model_selection import train_test_split\n",
        "\n",
        "import torch\n",
        "import torch.nn as nn\n",
        "import torch.nn.functional as F\n",
        "from torch.utils.data import Dataset, DataLoader\n",
        "import torch.optim as optim\n",
        "from torch.optim import lr_scheduler\n",
        "from torch.distributions import MultivariateNormal\n",
        "\n",
        "# Set some plotting defaults\n",
        "sns.set_context(\"notebook\")\n",
        "\n",
        "# initialize a color palette for plotting\n",
        "palette = sns.xkcd_palette([\"windows blue\",\n",
        "                            \"red\",\n",
        "                            \"medium green\",\n",
        "                            \"dusty purple\",\n",
        "                            \"greyish\",\n",
        "                            \"orange\",\n",
        "                            \"amber\",\n",
        "                            \"clay\",\n",
        "                            \"pink\"])\n",
        "\n",
        "\n",
        "# Specify that we want our tensors on the CPU and in float32\n",
        "device = torch.device('cpu')\n",
        "dtype = torch.float32\n",
        "\n",
        "# Helper function to convert between numpy arrays and tensors\n",
        "to_t = lambda array: torch.tensor(array, device=device, dtype=dtype)\n",
        "from_t = lambda tensor: tensor.to(\"cpu\").detach().numpy()"
      ],
      "execution_count": 2,
      "outputs": []
    },
    {
      "cell_type": "code",
      "metadata": {
        "cellView": "form",
        "id": "lACnGctVl0Ec"
      },
      "source": [
        "#@title Implement `train_model` function (run this cell!)\n",
        "def train_model(model, \n",
        "                train_dataset, \n",
        "                val_dataset,\n",
        "                objective,\n",
        "                regularizer=None,\n",
        "                num_epochs=100, \n",
        "                lr=0.1,\n",
        "                momentum=0.9,\n",
        "                lr_step_size=25,\n",
        "                lr_gamma=0.9):\n",
        "    # progress bars\n",
        "    pbar = trange(num_epochs)\n",
        "    pbar.set_description(\"---\")\n",
        "    inner_pbar = trange(len(train_dataset))\n",
        "    inner_pbar.set_description(\"Batch\")\n",
        "\n",
        "    # data loaders for train and validation\n",
        "    train_dataloader = DataLoader(train_dataset, batch_size=1)\n",
        "    val_dataloader = DataLoader(val_dataset, batch_size=1)\n",
        "    dataloaders = dict(train=train_dataloader, val=val_dataloader)\n",
        "\n",
        "    # use standard SGD with a decaying learning rate\n",
        "    optimizer = optim.SGD(model.parameters(), \n",
        "                          lr=lr, \n",
        "                          momentum=momentum)\n",
        "    scheduler = lr_scheduler.StepLR(optimizer, \n",
        "                                    step_size=lr_step_size, \n",
        "                                    gamma=lr_gamma)\n",
        "    \n",
        "    # Keep track of the best model\n",
        "    best_model_wts = deepcopy(model.state_dict())\n",
        "    best_loss = 1e8\n",
        "\n",
        "    # Track the train and validation loss\n",
        "    train_losses = []\n",
        "    val_losses = []\n",
        "    for epoch in pbar:\n",
        "        for phase in ['train', 'val']:\n",
        "            # set model to train/validation as appropriate\n",
        "            if phase == 'train':\n",
        "                model.train()\n",
        "                inner_pbar.reset()\n",
        "            else:\n",
        "                model.eval()\n",
        "            \n",
        "            # track the running loss over batches\n",
        "            running_loss = 0\n",
        "            running_size = 0\n",
        "            for datapoint in dataloaders[phase]:\n",
        "                velocity_t = to_t(datapoint['velocity']).squeeze(0)\n",
        "                spikes_t = to_t(datapoint['spikes']).squeeze(0)\n",
        "                if phase == \"train\":\n",
        "                    with torch.set_grad_enabled(True):\n",
        "                        optimizer.zero_grad()\n",
        "                        # compute the model output and loss\n",
        "                        output_t = model(spikes_t)\n",
        "                        loss_t = objective(output_t, velocity_t)\n",
        "                        # only add the regularizer in the training phase\n",
        "                        if regularizer is not None:\n",
        "                            loss_t += regularizer(model)\n",
        "\n",
        "                        # take the gradient and perform an sgd step\n",
        "                        loss_t.backward()\n",
        "                        optimizer.step()\n",
        "                    inner_pbar.update(1)\n",
        "                else:\n",
        "                    # just compute the loss in validation\n",
        "                    output_t = model(spikes_t)\n",
        "                    loss_t = objective(output_t, velocity_t)\n",
        "\n",
        "                assert torch.isfinite(loss_t)\n",
        "                running_loss += loss_t.item()\n",
        "                running_size += 1\n",
        "            \n",
        "            # compute the train/validation loss and update the best\n",
        "            # model parameters if this is the lowest validation loss yet\n",
        "            running_loss /= running_size\n",
        "            if phase == \"train\":\n",
        "                train_losses.append(running_loss)\n",
        "            else:\n",
        "                val_losses.append(running_loss)\n",
        "                if running_loss < best_loss:\n",
        "                    best_loss = running_loss\n",
        "                    best_model_wts = deepcopy(model.state_dict())\n",
        "\n",
        "        # Update the learning rate\n",
        "        scheduler.step()\n",
        "\n",
        "        # Update the progress bar\n",
        "        pbar.set_description(\"Epoch {:03} Train {:.4f} Val {:.4f}\"\\\n",
        "                             .format(epoch, train_losses[-1], val_losses[-1]))\n",
        "        pbar.update(1)\n",
        "\n",
        "    # load best model weights\n",
        "    model.load_state_dict(best_model_wts)\n",
        "\n",
        "    return np.array(train_losses), np.array(val_losses)"
      ],
      "execution_count": 3,
      "outputs": []
    },
    {
      "cell_type": "markdown",
      "metadata": {
        "id": "vui7h_TZAmc4"
      },
      "source": [
        "## Load the data\n",
        "\n",
        "This data, kindly shared by Prof. Krishna Shenoy (Stanford), is used in his EE124 class, so it may be familiar to some of you. It's given as a Matlab file with a single struct called `R`. That struct contains data from a number of trials, each consisting of a spike train (`spikeRaster`), a `target`, and a time series of cursor positions (`cursorPos`). There are a bunch of other fields that we won't use for this lab.\n",
        "\n",
        "Note that the data is not spike sorted. We are simply given the times of putative spikes picked up on each of the 96 channels of the Utah array. \n",
        "<!-- Since the electrodes of the Utah are farther apart than those of a Neuropixels probe, it's less common to see spikes from the same neuron on more than one channel.  -->\n",
        "We might be able to extract some extra information by spike sorting, but to be consistent with previous analyses from the Shenoy lab, we'll just stick with spike counts per channel for this \n",
        "\n",
        "The spikes and positions are given in 1ms bins. We'll downsample to 25ms bins, which sacrifices some temporal resolution but will improve our signal-to-noise in the simple Bayesian models and our runtime in all cases.\n",
        "\n",
        "We pack the results into a list of dictionaries with the following keys:\n",
        "- `spikes` a (Tx96) array of spike counts for each of the 96 channels where T is the number of time bins in that trial\n",
        "- `position` a (Tx2) array of cursor positions\n",
        "- `velocity` a (Tx2) array of estimated cursor velocities\n",
        "- `condition` a number 0,..,8 specifying the reaching condition (i.e. starting point and target)"
      ]
    },
    {
      "cell_type": "code",
      "metadata": {
        "id": "bCgRe-Zp1mV2"
      },
      "source": [
        "%%capture\n",
        "!wget -nc https://www.dropbox.com/s/b99vsgiz679y5bw/JR_2015-12-04_truncated2.mat"
      ],
      "execution_count": 4,
      "outputs": []
    },
    {
      "cell_type": "code",
      "metadata": {
        "id": "Opt12nVW3X9I",
        "colab": {
          "base_uri": "https://localhost:8080/",
          "height": 65,
          "referenced_widgets": [
            "f13b100a8ca94fea805721afd999f3dc",
            "0ec5d9c86d3c44c68dffdf8d58440dec",
            "ca87e8b7b214410b82554d612135ba05",
            "6e2da66d9dfb4b1aa05cd15ebcb90414",
            "cb04e408ba98423aaeef3d02eb796c36",
            "3fee34683a304d86b488d7c4ab08ebdf",
            "851cfb2df0cf4f5ba3c9a8282fddb11b",
            "ea35017dff8f4b99ad21491465048b45"
          ]
        },
        "outputId": "9ee114a8-4e5c-4589-8a66-7e2b79fc6c11"
      },
      "source": [
        "def load_data(bin_size):\n",
        "    data = loadmat('JR_2015-12-04_truncated2.mat')\n",
        "    R = data['R'][0]            # the infamous Shenoy lab \"R\" struct\n",
        "\n",
        "    # Extract the targets\n",
        "    targets = np.row_stack([Ri['target'].ravel() for Ri in R])\n",
        "    unique_targets, conditions = np.unique(targets, return_inverse=True, axis=0)\n",
        "\n",
        "    # Extract the spikes and positions in 10ms bins\n",
        "    def bin_spikes(trial):\n",
        "        spikes =  R[trial]['spikeRaster'].toarray()\n",
        "        num_neurons, num_frames = spikes.shape\n",
        "        num_bins = int(np.ceil(num_frames / bin_size))\n",
        "        pad = np.zeros((num_neurons, num_bins * bin_size - num_frames))\n",
        "        padded_spikes = np.column_stack([spikes, pad])\n",
        "        return padded_spikes.reshape(num_neurons, num_bins, bin_size).sum(-1)\n",
        "\n",
        "    def bin_positions(trial, smooth=20):\n",
        "        pos = R[trial]['cursorPos'][:2]\n",
        "        dim, num_frames = pos.shape\n",
        "        num_bins = int(np.ceil(num_frames / bin_size))\n",
        "        smooth_pos = gaussian_filter1d(pos, smooth, axis=1)\n",
        "        f = interp1d(np.arange(num_frames), smooth_pos, \n",
        "                     axis=-1, fill_value=\"extrapolate\")\n",
        "        return f(np.arange(num_bins) * bin_size)\n",
        "\n",
        "    # Get the spikes, cursor positions, and cursor velocities for each trial\n",
        "    all_data = []\n",
        "    for trial in trange(len(R)):\n",
        "        spk = bin_spikes(trial).T\n",
        "        pos = bin_positions(trial).T\n",
        "        vel = np.gradient(pos, axis=0)\n",
        "        con = conditions[trial]\n",
        "        all_data.append(dict(spikes=spk, \n",
        "                            position=pos, \n",
        "                            velocity=vel, \n",
        "                            condition=con))\n",
        "\n",
        "    # Split the data into training and test sets\n",
        "    train_data = all_data[:400]\n",
        "    test_data = all_data[400:]\n",
        "    \n",
        "    return train_data, test_data\n",
        "\n",
        "bin_size = 25\n",
        "train_data, test_data = load_data(bin_size)"
      ],
      "execution_count": 5,
      "outputs": [
        {
          "output_type": "display_data",
          "data": {
            "application/vnd.jupyter.widget-view+json": {
              "model_id": "f13b100a8ca94fea805721afd999f3dc",
              "version_minor": 0,
              "version_major": 2
            },
            "text/plain": [
              "HBox(children=(FloatProgress(value=0.0, max=506.0), HTML(value='')))"
            ]
          },
          "metadata": {
            "tags": []
          }
        },
        {
          "output_type": "stream",
          "text": [
            "\n"
          ],
          "name": "stdout"
        }
      ]
    },
    {
      "cell_type": "markdown",
      "metadata": {
        "id": "DzNFVh9bDyhg"
      },
      "source": [
        "## Plot the spike counts and position/velocity times for a single trial\n",
        "\n",
        "Let's look at one trial. It consists of a time series of spike counts from each channel of the Utah array, as well as a position time series. We also plot the velocity, which is just a first-order estimate of the derivative of the position."
      ]
    },
    {
      "cell_type": "code",
      "metadata": {
        "id": "u5kIogG43m_k",
        "colab": {
          "base_uri": "https://localhost:8080/",
          "height": 517
        },
        "outputId": "39c827b7-469f-4322-f42b-14a0c90af716"
      },
      "source": [
        "def plot_trial(data, trial):\n",
        "    fig, axs = plt.subplots(3, 1, sharex=True, figsize=(8, 8))\n",
        "\n",
        "    axs[0].imshow(data[trial][\"spikes\"].T, \n",
        "                interpolation=\"none\", \n",
        "                aspect=\"auto\", \n",
        "                cmap=\"Greys\")\n",
        "    axs[0].set_ylabel(\"channel\")\n",
        "    axs[0].set_title(\"trial {}\".format(trial))\n",
        "\n",
        "    axs[1].plot(data[trial][\"position\"][:, 0], label='x')\n",
        "    axs[1].plot(data[trial][\"position\"][:, 1], label='y')\n",
        "    axs[1].set_ylabel(\"position [mm]\")\n",
        "    axs[1].legend()\n",
        "\n",
        "    axs[2].plot(data[trial][\"velocity\"][:, 0], label='x')\n",
        "    axs[2].plot(data[trial][\"velocity\"][:, 1], label='y')\n",
        "    axs[2].set_xlabel(\"time bin [{}ms]\".format(bin_size))\n",
        "    axs[2].set_ylabel(\"velocity [mm / bin]\")\n",
        "    axs[2].legend()\n",
        "\n",
        "plot_trial(train_data, 1)"
      ],
      "execution_count": 6,
      "outputs": [
        {
          "output_type": "display_data",
          "data": {
            "image/png": "[encoded data removed]",
            "text/plain": [
              "<Figure size 576x576 with 3 Axes>"
            ]
          },
          "metadata": {
            "tags": [],
            "needs_background": "light"
          }
        }
      ]
    },
    {
      "cell_type": "markdown",
      "metadata": {
        "id": "nQtMaSW5DttT"
      },
      "source": [
        "## Plot the cursor positions across all trials\n",
        "\n",
        "Plot the reach directions color-coded by the condition type. Most conditions start at the center and move outward to a target. One condition type (gray) starts at the perimeter and moves to the center."
      ]
    },
    {
      "cell_type": "code",
      "metadata": {
        "id": "frP7vwq23eUV",
        "colab": {
          "base_uri": "https://localhost:8080/",
          "height": 286
        },
        "outputId": "fc5d6399-2ca0-44dc-b994-02b4ee0d12dc"
      },
      "source": [
        "def plot_reach_trajectories(data):\n",
        "    for d in data:\n",
        "        plt.plot(d[\"position\"][:, 0], \n",
        "                 d[\"position\"][:, 1], \n",
        "                 color=palette[d[\"condition\"]])\n",
        "        \n",
        "    plt.xlabel(\"cursor x position [mm]\")\n",
        "    plt.ylabel(\"cursor y position [mm]\")\n",
        "    plt.gca().set_aspect(\"equal\")\n",
        "\n",
        "plot_reach_trajectories(train_data)"
      ],
      "execution_count": 7,
      "outputs": [
        {
          "output_type": "display_data",
          "data": {
            "image/png": "[encoded data removed]",
            "text/plain": [
              "<Figure size 432x288 with 1 Axes>"
            ]
          },
          "metadata": {
            "tags": [],
            "needs_background": "light"
          }
        }
      ]
    },
    {
      "cell_type": "markdown",
      "metadata": {
        "id": "cqD5QLypasoV"
      },
      "source": [
        "# Part 1: Implement a simple Bayesian decoder\n",
        "\n",
        "Our first model is an extremely simple Bayesian decoder.  Let $x_t^{(\\ell)} \\in \\mathbb{R}^2$ denote the **cursor velocity** at time $t$ on trial $\\ell$. Likewise, let $y_t^{(\\ell)} \\in \\mathbb{R}^{96}$ denote the spike count measured on the 96-channel array at time $t$ on trial $\\ell$. Let $T_\\ell$ denote the number of time bins of trial $\\ell$, and let $L$ denote the total number of trials. \n",
        "\n",
        "We will estimate the posterior distribution over velocity under the following model,\n",
        "\\begin{align}\n",
        "x_t^{(\\ell)} &\\sim \\mathcal{N}(0, Q) \\\\\n",
        "y_t^{(\\ell)} \\mid x_t^{(\\ell)} &\\sim \\mathcal{N}(C x_t^{(\\ell)} + d, R).\n",
        "\\end{align}\n",
        "The model has the following parameters,\n",
        "- $Q \\in \\mathbb{R}^{2 \\times 2}$: the prior covariance of the velocity\n",
        "- $C \\in \\mathbb{R}^{96 \\times 2}$: the _emission_ matrix\n",
        "- $d \\in \\mathbb{R}^{96}$: the _emission_ bias\n",
        "- $R \\in \\mathbb{R}^{96 \\times 96}$: the _emission_ covariance\n",
        "Note that $Q$ and $R$ are positive definite matrices.\n",
        "\n",
        "As we derived in class, the posterior distribution of the velocity given the spike counts is,\n",
        "\\begin{align}\n",
        "p(x_t^{(\\ell)} \\mid y_t^{(\\ell)}) &= \\mathcal{N}(\\mu_t, \\Sigma) \\\\\n",
        "\\Sigma &= J^{-1}  \n",
        "& \\mu_t &= J^{-1} h_t \\\\\n",
        "J &= Q^{-1} + C^\\top R^{-1} C &\n",
        "h_t &= C^\\top R^{-1}(y_t^{(\\ell)} - d),\n",
        "\\end{align}\n",
        "where $(\\mu_t, \\Sigma)$ are the posterior mean and covariance, respectively, and $(J, h_t)$ are the _natural_ (aka _information-form_) parameters. \n",
        "\n",
        "To be consistent with the subsequent parts of the lab, we will formulate the model as a conditional distribution over the entire time series of velocities, $\\mathbf{x}^{(\\ell)} = (x_1^{(\\ell)}, \\ldots, x_{T_\\ell}^{(\\ell)}) \\in \\mathbb{R}^{T \\times 2}$ given the entire time series of spike counts $\\mathbf{y}^{(\\ell)} \\in \\mathbb{R}^{T \\times 96}$. Since the simple model factors into a product of Gaussians for each time bin, and since each Gaussian has the same covariance, the full posterior distribution is,\n",
        "\\begin{align}\n",
        "p(\\mathbf{x}^{(\\ell)} \\mid \\mathbf{y}^{(\\ell)}) \n",
        "&= \\prod_{t=1}^{T_\\ell} p(x_t^{(\\ell)} \\mid y_t^{(\\ell)}) \\\\\n",
        "&= \\mathcal{N}\\left( \\mathrm{vec}(\\mathbf{x}^{(\\ell)}) \\, \\bigg| \\,\n",
        "    \\begin{bmatrix} \\mu_1 \\\\ \\vdots \\\\ \\mu_{T_\\ell} \\end{bmatrix},\n",
        "    \\begin{bmatrix} \\Sigma & & \\\\ & \\ddots & \\\\ & & \\Sigma \\end{bmatrix} \n",
        "    \\right).\n",
        "\\end{align}\n",
        "\n",
        "In Part 1, you'll estimate the parameters of this model, $\\{Q, C, d, R\\}$ and implement it as a PyTorch module."
      ]
    },
    {
      "cell_type": "markdown",
      "metadata": {
        "id": "cEKYpsZ2LFGn"
      },
      "source": [
        "## Problem 1a: Estimate the prior covariance $Q$\n",
        "\n",
        "Estimate the prior covariance, assuming the velocity is zero mean, as \n",
        "\\begin{align}\n",
        "\\hat{Q} &= \\frac{1}{\\sum_{\\ell = 1}^L T_\\ell} \\left(\\sum_{\\ell=1}^L \\sum_{t=1}^{T_\\ell} x_t^{(\\ell)} (x_t^{(\\ell)})^\\top \\right).\n",
        "\\end{align}"
      ]
    },
    {
      "cell_type": "code",
      "metadata": {
        "id": "IorpLmxaFIvl",
        "colab": {
          "base_uri": "https://localhost:8080/"
        },
        "outputId": "32e38089-91eb-4b0a-c2c8-03e63e828b51"
      },
      "source": [
        "def estimate_basic_prior_prms(train_data):\n",
        "    \"\"\"\n",
        "    Estimate \\hat{Q} from the training data.\n",
        "    \"\"\"\n",
        "    ###\n",
        "    # YOUR CODE BELOW\n",
        "    sum_T = 0\n",
        "    vel_sums = np.zeros((2,2))\n",
        "    for trial in train_data:\n",
        "      velocity = trial['velocity']\n",
        "      T = velocity.shape[0]\n",
        "      for t in range(T):\n",
        "        vel_sums += velocity[t,:, np.newaxis] @ velocity[t,:, np.newaxis].T\n",
        "      sum_T += T\n",
        "    Q_hat = vel_sums / sum_T\n",
        "    #\n",
        "    ###\n",
        "    return Q_hat\n",
        "\n",
        "Q_hat = estimate_basic_prior_prms(train_data)\n",
        "print(Q_hat)\n",
        "assert np.allclose(Q_hat, np.array([[15.6646, -0.9956],\n",
        "                                    [-0.9956, 16.4991]]),\n",
        "                   atol=1e-4)"
      ],
      "execution_count": 8,
      "outputs": [
        {
          "output_type": "stream",
          "text": [
            "[[15.66467082 -0.99565276]\n",
            " [-0.99565276 16.49912847]]\n"
          ],
          "name": "stdout"
        }
      ]
    },
    {
      "cell_type": "markdown",
      "metadata": {
        "id": "vwGtJmYLLKvu"
      },
      "source": [
        "## Problem 1b: Estimate the encoding model parameters\n",
        "\n",
        "Estimate $C$, $d$, and $R$ by fitting a linear regression to the training velocity and spikes.\n",
        "\n",
        "You can use the `LinearRegression` class from `sklearn.linear_model` (imported above), `scipy.linalg.lstsq`, or you can do it manually. Your choice!\n",
        "\n"
      ]
    },
    {
      "cell_type": "code",
      "metadata": {
        "id": "-1gSElO0FcL8"
      },
      "source": [
        "from scipy.linalg import lstsq\n",
        "def estimate_emission_prms(train_data):\n",
        "    \"\"\"Estimate \\hat{C}, \\hat{d}, and \\hat{R} from the training data.\n",
        "    \"\"\"\n",
        "    ###\n",
        "    # YOUR CODE BELOW\n",
        "    Xs = np.concatenate([trial['velocity'] for trial in train_data])\n",
        "    ys = np.concatenate([trial['spikes'] for trial in train_data])\n",
        "\n",
        "    reg = LinearRegression()\n",
        "    reg.fit(Xs, ys)\n",
        "    residuals = ys - reg.predict(Xs)\n",
        "    \n",
        "    C_hat = reg.coef_\n",
        "    d_hat = reg.intercept_\n",
        "    R_hat = residuals.T @ residuals / len(residuals)\n",
        "    #\n",
        "    ###\n",
        "    return C_hat, d_hat, R_hat\n",
        "\n",
        "C_hat, d_hat, R_hat = estimate_emission_prms(train_data)\n",
        "assert np.allclose(C_hat.sum(), -0.1172, atol=1e-4)\n",
        "assert np.allclose(C_hat.std(), 0.0121, atol=1e-4)\n",
        "assert np.allclose(d_hat.sum(), 39.7506, atol=1e-1)\n",
        "assert np.allclose(d_hat.std(), 0.3210, atol=1e-4)\n",
        "assert np.allclose(R_hat.sum(), 587.7989, atol=1e-1)\n",
        "assert np.allclose(R_hat.std(), 0.1022, atol=1e-4)"
      ],
      "execution_count": 9,
      "outputs": []
    },
    {
      "cell_type": "markdown",
      "metadata": {
        "id": "2Fm4Yg5pLUDI"
      },
      "source": [
        "## Problem 1c: Implement the simple decoder model\n",
        "\n",
        "Implement the simple decoder as a PyTorch `Module`. We won't be fitting any parameters (you just estimated them above!), but implementing it this way will allow us to compare directly to the model developed in Part 3.\n",
        "\n",
        "Specifically, complete the `forward` function to compute `J`, `h`, `mu`, and `Sigma`. The functions `torch.solve` and `torch.inverse` will be useful. \n",
        "\n",
        "_Note: there are generally more numerically stable/efficient approaches than directly computing a matrix inverse&mdash;solve is almost always preferable!&mdash;but for this lab go ahead and call `torch.inverse` to compute `Sigma`._"
      ]
    },
    {
      "cell_type": "code",
      "metadata": {
        "id": "Ne7VwLmpvvLN"
      },
      "source": [
        "class SimpleDecoder(nn.Module):\n",
        "    def __init__(self, Q, C, d, R):\n",
        "        super(SimpleDecoder, self).__init__()\n",
        "        \n",
        "        # Store the parameters as tensors\n",
        "        self.Q = to_t(Q)\n",
        "        self.C = to_t(C)\n",
        "        self.d = to_t(d)\n",
        "        self.R = to_t(R)\n",
        "        \n",
        "    def forward(self, spikes):\n",
        "        \"\"\"\n",
        "        spikes: T x 96 array of spikes for a single trial\n",
        "        returns: (mu, Sigma) where \n",
        "            - mu is the (T x 2) posterior mean of the velocity\n",
        "            - Sigma is the (2 x 2) posterior covariance (the same for all bins)\n",
        "        \"\"\"\n",
        "        # Get the model parameters so we don't always have to reference self\n",
        "        Q, C, d, R = self.Q, self.C, self.d, self.R\n",
        "\n",
        "        # Convert spikes to tensor, if they're not already\n",
        "        Y = to_t(spikes)\n",
        "        T, _ = Y.shape\n",
        "\n",
        "        ###\n",
        "        # YOUR CODE BELOW\n",
        "        #\n",
        "        J = torch.inverse(Q) + C.T @ torch.inverse(R) @ C    # 2x2 tensor\n",
        "        Sigma = torch.inverse(J) # 2x2 tensor\n",
        "        h = (Y - d) @ torch.inverse(R) @ C    # Tx2 tensor\n",
        "        mu = h @ Sigma.T    # Tx2 tensor\n",
        "        #\n",
        "        ###\n",
        "\n",
        "        # Convert Sigma to a 2T x 2T block diagonal matrix for consistency\n",
        "        # with the models in Parts 2 and 3\n",
        "        assert Sigma.shape == (2, 2)\n",
        "        Sigma = torch.block_diag(*(Sigma * torch.ones(T, 2, 2)))\n",
        "\n",
        "        # Return the mean and covariance\n",
        "        return mu, Sigma\n",
        "        \n",
        "\n",
        "# Instantiate the model\n",
        "Q_hat = estimate_basic_prior_prms(train_data)\n",
        "C_hat, d_hat, R_hat = estimate_emission_prms(train_data)\n",
        "simple_decoder = SimpleDecoder(Q_hat, C_hat, d_hat, R_hat)"
      ],
      "execution_count": 10,
      "outputs": []
    },
    {
      "cell_type": "markdown",
      "metadata": {
        "id": "TrPcxn2QbGRh"
      },
      "source": [
        "## Problem 1d: Compute the multivariate normal log probability\n",
        "\n",
        "Write a function to compute the (average negative) log probability under the a multivariate normal distribution,\n",
        "\\begin{align}\n",
        "p(\\mathbf{x}^{(\\ell)} \\mid \\mathbf{y}^{(\\ell)}) \n",
        "&= \\prod_{t=1}^{T_\\ell} p(x_t^{(\\ell)} \\mid y_t^{(\\ell)}) \\\\\n",
        "&= \\mathcal{N}\\left( \\mathrm{vec}(\\mathbf{x}^{(\\ell)}) \\, \\bigg| \\,\n",
        "    \\boldsymbol{\\mu}, \\mathbf{\\Sigma}\n",
        "    \\right).\n",
        "\\end{align}\n",
        "where $\\mathrm{vec}(\\mathbf{x}^{(\\ell)}) \\in \\mathbb{R}^{2T}$ is the vectorized array of velocities, $\\boldsymbol{\\mu} \\in \\mathbb{R}^{2T}$ is the mean, and $\\boldsymbol{\\Sigma} \\in \\mathbb{R}^{2T \\times 2T}$ is the covariance matrix.\n",
        "\n",
        "The function will take in the velocity and mean as shape (T,2) tensors, so you'll have to do some flattening. We'll negate and normalize for you."
      ]
    },
    {
      "cell_type": "code",
      "metadata": {
        "id": "FgmIMOIdIN-q"
      },
      "source": [
        "def mvn_loss(prms, velocity):\n",
        "    \"\"\"Compute the average negative log-likelihood under a \n",
        "    multivariate normal model.\n",
        "\n",
        "    prms: tuple containing (mean, cov) where:\n",
        "        mean: T x 2 tensor of predicted velocity mean\n",
        "        cov:  2T x 2T tensor of predicted velocity covariance\n",
        "    velocity: T x 2 array of measured velocity\n",
        "    returns: average negative log likelihood (mean over all spikes)\n",
        "    \"\"\"\n",
        "    mean, cov = prms\n",
        "    velocity = to_t(velocity)\n",
        "    \n",
        "    ###\n",
        "    # YOUR CODE BELOW\n",
        "    ll = torch.distributions.MultivariateNormal(\n",
        "        mean.reshape(-1), cov).log_prob(velocity.reshape(-1))\n",
        "    ###\n",
        "    return -ll / velocity.numel()\n",
        "    \n",
        "assert torch.isclose(\n",
        "    mvn_loss(simple_decoder(train_data[0]['spikes']), \n",
        "             train_data[0]['velocity']),\n",
        "    torch.tensor(2.6651), atol=1e-4)"
      ],
      "execution_count": 11,
      "outputs": []
    },
    {
      "cell_type": "markdown",
      "metadata": {
        "id": "B5UrxxHdcXBU"
      },
      "source": [
        "## Plot the decoded positions\n",
        "That's it! No more fitting required. You already estimated the parametes in Problems 1a and 1b. Now we'll decode the velocities from the test set and integrate them to get positions that we can compare to the true cursor trajectories."
      ]
    },
    {
      "cell_type": "code",
      "metadata": {
        "id": "SJ1O9PazxGZx",
        "colab": {
          "base_uri": "https://localhost:8080/",
          "height": 341,
          "referenced_widgets": [
            "78a48351671b41dcaeb296b1cd1d1b68",
            "154cf6ddeb1749cfb099d50d22c1d03d",
            "f5a2776e452a4a02af22c4129a42ea91",
            "383944fddd9149dca53042dea108e73a",
            "21b866a37ec640b98edf925381f33a0f",
            "eccedef60c9a432abb76c42e92c46e89",
            "5b9076ab749b4f74a8ca0257bdd0cfe0",
            "dc7e48d310c54c3dab5c5be2e31f2db4"
          ]
        },
        "outputId": "edbe82a2-be44-4985-9a3a-e354a9e2befe"
      },
      "source": [
        "def plot_decoder(test_data, decoder):\n",
        "    fig, axs = plt.subplots(1, 2, figsize=(8, 4), sharex=True, sharey=True)\n",
        "    for trial in trange(len(test_data)):\n",
        "        spikes = test_data[trial][\"spikes\"]\n",
        "        position = test_data[trial][\"position\"]\n",
        "        cond = test_data[trial][\"condition\"]\n",
        "        \n",
        "        # decode velocity and integrate to get position\n",
        "        dec_velocity = from_t(decoder(spikes)[0])\n",
        "        dec_position = position[0] + np.cumsum(dec_velocity, axis=0)\n",
        "\n",
        "        axs[0].plot(position[:, 0], position[:, 1], color=palette[cond])\n",
        "        axs[1].plot(dec_position[:, 0], dec_position[:, 1], color=palette[cond])\n",
        "    \n",
        "    axs[0].set_title(\"test movements\")\n",
        "    axs[0].set_xlabel(\"cursor x position\")\n",
        "    axs[0].set_ylabel(\"cursor y position\")\n",
        "    axs[1].set_xlabel(\"cursor x position\")\n",
        "    axs[1].set_title(\"decoded test movements\")\n",
        "    plt.tight_layout()\n",
        "\n",
        "plot_decoder(test_data, simple_decoder)"
      ],
      "execution_count": 12,
      "outputs": [
        {
          "output_type": "display_data",
          "data": {
            "application/vnd.jupyter.widget-view+json": {
              "model_id": "78a48351671b41dcaeb296b1cd1d1b68",
              "version_minor": 0,
              "version_major": 2
            },
            "text/plain": [
              "HBox(children=(FloatProgress(value=0.0, max=106.0), HTML(value='')))"
            ]
          },
          "metadata": {
            "tags": []
          }
        },
        {
          "output_type": "stream",
          "text": [
            "\n"
          ],
          "name": "stdout"
        },
        {
          "output_type": "display_data",
          "data": {
            "image/png": "[encoded data removed]",
            "text/plain": [
              "<Figure size 576x288 with 2 Axes>"
            ]
          },
          "metadata": {
            "tags": [],
            "needs_background": "light"
          }
        }
      ]
    },
    {
      "cell_type": "markdown",
      "metadata": {
        "id": "2VZCeZmpcuYe"
      },
      "source": [
        "## Problem 1e: [Short answer] Discuss your results\n",
        "\n",
        "_Answer below this line_\n",
        "\n",
        "---\n",
        "\n",
        "Using a simple bayesian decoder like the one implemented above does not achieve great results. The cursor position of the decoded test movements is very noisy and much less stable (i.e. cursor not going in a straight line) because the next predicted velocity is not correlated to the previous velocity, and the velocity seems to be smaller in magnitude compared to the test movements based on the fact that the cursor is never reaching the target or fully going back to center."
      ]
    },
    {
      "cell_type": "markdown",
      "metadata": {
        "id": "wgRqYIqFXLhY"
      },
      "source": [
        "# Part 2: Bayesian decoding with a linear dynamical system prior\n",
        "\n",
        "The simple model failed to account for any temporal correlations in the velocities. This followed from the fact that both the prior and the likelihood were independent across time bins. In this section, we'll address this shortcoming by building temporal dependencies into the prior.\n",
        "\n",
        "Consider the following model instead,\n",
        "\\begin{align}\n",
        "x_1^{(\\ell)} &\\sim \\mathcal{N}(0, Q_0) \\\\\n",
        "x_t^{(\\ell)} &\\sim \\mathcal{N}(A x_{t-1}, Q) & \\text{for }  t&=2,\\ldots, T\\\\\n",
        "y_t^{(\\ell)} \\mid x_t^{(\\ell)} &\\sim \\mathcal{N}(C x_t^{(\\ell)} + d, R) \n",
        " & \\text{for }  t&=1,\\ldots, T.\n",
        "\\end{align}\n",
        "\n",
        "Under this model, the velocity $x_t^{(\\ell)}$ is a linear function of the preceding velocity with additive Gaussian noise. This is called a _linear dynamical system_ (LDS). These autoregressive dependencies of the LDS lead to correlations across time in the posterior. "
      ]
    },
    {
      "cell_type": "markdown",
      "metadata": {
        "id": "rJawIyJCdy7i"
      },
      "source": [
        "## Problem 2a [Math]: Derive the natural parameters of the LDS posterior\n",
        "\n",
        "As we discussed in class, the posterior distribution of the LDS is also a multivariate Gaussian, \n",
        "\\begin{align}\n",
        "p(\\mathbf{x}^{(\\ell)} \\mid \\mathbf{y}^{(\\ell)}) \n",
        "&= \\mathcal{N}\\left( \\mathrm{vec}(\\mathbf{x}^{(\\ell)}) \\, \\bigg| \\,\n",
        "    \\boldsymbol{\\mu}, \\mathbf{\\Sigma}\n",
        "    \\right).\n",
        "\\end{align}\n",
        "but here the covariance matrix $\\boldsymbol{\\Sigma} \\in \\mathbb{R}^{2T \\times 2T}$ is no longer block diagonal. Instead, we have,\n",
        "\\begin{align}\n",
        "\\boldsymbol{\\Sigma} &= \\mathbf{J}^{-1} &\n",
        "\\boldsymbol{\\mu} &= \\mathbf{J}^{-1} \\mathbf{h} \n",
        "\\end{align}\n",
        "where $\\mathbf{J} \\in \\mathbb{R}^{2T \\times 2T}$ is a block tridiagonal matrix and $\\mathbf{h} \\in \\mathbb{R}^{2T}$ is a vector,\n",
        "\\begin{align}\n",
        "\\mathbf{J} &=\n",
        "\\begin{bmatrix}\n",
        "J_{11} & J_{21}^\\top &    &           &                \\\\\n",
        "J_{21} & J_{22} &  \\ddots &           &                \\\\\n",
        "       & \\ddots & \\ddots  & \\ddots    &                \\\\\n",
        "       &        & \\ddots  & \\ddots    & J_{T,T-1}^\\top \\\\\n",
        "       &        &         & J_{T,T-1} & J_{T,T}\n",
        "\\end{bmatrix}\n",
        "&\n",
        "\\mathbf{h} &=\n",
        "\\begin{bmatrix}\n",
        "h_1 \\\\\n",
        "h_2 \\\\\n",
        "\\vdots \\\\\n",
        "h_T\n",
        "\\end{bmatrix}\n",
        "\\end{align}\n",
        "Derive the form of the natural parameters of the posterior distribution, including:\n",
        "- the diagonal blocks $J_{tt}$ (including the special cases for $t=1$ and $t=T$), \n",
        "- the lower diagonal blocks $J_{t,t-1}$, and\n",
        "- the linear terms $h_t$. \n",
        "\n",
        "To do so, apply Bayes rule, expanding the joint probability, and collecting terms to write the posterior as a multivariate normal distribution on $\\mathbf{x}^{(\\ell)}$.\n",
        "\n",
        "_Answer below this line_\n",
        "\n",
        "---\n",
        "\n",
        "\\begin{align}\n",
        "p(\\mathbf{x|y}) \\propto p(\\mathbf{y|x})p(\\mathbf{x})\n",
        "\\end{align}\n",
        "with\n",
        "\\begin{align}\n",
        "p(\\mathbf{y|x}) = \\prod_{t=1}^Tp(y_t|x_t)\n",
        "\\end{align}\n",
        "\\begin{align}\n",
        "p(\\mathbf{y|x}) \\propto \\exp[(-\\frac{1}{2}\\sum_{t=1}^T{y^T_tR^{-1}y_t})  + (\\sum_{t=1}^T{(Cx_t + d)^TR^{-1}y_t}) + (-\\frac{1}{2}\\sum_{t=1}^T{(Cx_t + d)^TR^{-1}(Cx_t + d)}]\n",
        "\\end{align}\n",
        "and\n",
        "\\begin{align}\n",
        "p(\\mathbf{x}) = p(x_1)\\prod_{t=2}^T{p(x_t|x_{t-1}})\n",
        "\\end{align}\n",
        "\\begin{align}\n",
        "p(\\mathbf{x}) \\propto \\exp[(-\\frac{1}{2}x_1^T(Q_0^{-1}+A^TQ^{-1}A)x1) + (-\\frac{1}{2}\\sum_{t=2}^{T-1}x_t^T(Q^{-1}+A^TQ^{-1}A)x_t)+(-\\frac{1}{2}x_T^TQ^{-1}x_T)+(\\sum_{t=2}^Tx_t^TQ^{-1}Ax_{t-1})]\n",
        "\\end{align}\n",
        "Combining to get $J$ terms\n",
        "\\begin{align}\n",
        "J_{tt} = Q^{-1} + A^TQ^{-1}A + C^TR^{-1}C\n",
        "\\end{align}\n",
        "$t=1$\n",
        "\\begin{align}\n",
        "J_{11} = Q_0^{-1} + A^TQ^{-1}A + C^TR^{-1}C\n",
        "\\end{align}\n",
        "$t=T$\n",
        "\\begin{align}\n",
        "J_{TT} = Q^{-1} + C^TR^{-1}C\n",
        "\\end{align}\n",
        "lower diagonal block\n",
        "\\begin{align}\n",
        "J_{t,t-1} = -Q^{-1}A\n",
        "\\end{align}\n",
        "linear term $h_t$\n",
        "\\begin{align}\n",
        "h_t = C^TR^{-1}(y_t-d)\n",
        "\\end{align}"
      ]
    },
    {
      "cell_type": "markdown",
      "metadata": {
        "id": "U-ix2297XRRX"
      },
      "source": [
        "## Problem 2b: Estimate the velocity dynamics\n",
        "\n",
        "Write a function to estimate the prior parameters $\\hat{Q}_0$, $\\hat{A}$, and $\\hat{Q}$. Estimate $\\hat{Q}_0$ as the empirical variance of the initial velocity (similar to Problem 1a), and estimate $\\hat{A}$ and $\\hat{Q}$ via linear regression (similar to Problem 1b).\n"
      ]
    },
    {
      "cell_type": "code",
      "metadata": {
        "id": "qQeUwJ_b0Zoh"
      },
      "source": [
        "def estimate_dynamics_prms(train_data):\n",
        "    \"\"\"\n",
        "    Estimate the prior parameters Q0, A, and Q, as described above.\n",
        "    \"\"\"\n",
        "    ###\n",
        "    # YOUR CODE BELOW\n",
        "    #\n",
        "    vel_1 = np.concatenate([trial['velocity'][0:1] for trial in train_data])\n",
        "    vel_t_1 = np.concatenate([trial['velocity'][:-1] for trial in train_data])\n",
        "    vel_t = np.concatenate([trial['velocity'][1:] for trial in train_data])\n",
        "\n",
        "    Q0_hat = vel_1.T @ vel_1 / len(vel_1)\n",
        "\n",
        "    reg = LinearRegression(fit_intercept=False).fit(vel_t_1, vel_t)\n",
        "    A_hat = reg.coef_\n",
        "    residuals = vel_t - reg.predict(vel_t_1)\n",
        "    Q_hat = residuals.T @ residuals / len(residuals)\n",
        "    #\n",
        "    ###\n",
        "    return Q0_hat, A_hat, Q_hat\n",
        "\n",
        "Q0_hat, A_hat, Q_hat = estimate_dynamics_prms(train_data)"
      ],
      "execution_count": 20,
      "outputs": []
    },
    {
      "cell_type": "markdown",
      "metadata": {
        "id": "CTy7OS5Rib3a"
      },
      "source": [
        "## A helper function to construct a symmetric block tridiagonal matrix from its parts"
      ]
    },
    {
      "cell_type": "code",
      "metadata": {
        "id": "_baE501Na8dr"
      },
      "source": [
        "def symm_block_tridiag(J_diag, J_lower_diag):\n",
        "    \"\"\"\n",
        "    Helper function to construct a symmetric block tridiagonal matrix\n",
        "    from its diagonal blocks (J_diag) and lower diagonal blocks (J_lower_diag).\n",
        "    The shape of the output is inferred from the shapes of the inputs\n",
        "\n",
        "    J_diag: T x D x D tensor of diagonal blocks\n",
        "    J_lower_diag: T-1 x D x D tensor of lower diagonal blocks\n",
        "\n",
        "    returns: TD x TD symmetric block tridiagonal matrix\n",
        "    \"\"\"\n",
        "    T, D, _ = J_diag.shape\n",
        "    assert J_diag.shape[2] == D\n",
        "    assert J_lower_diag.shape == (T-1, D, D)\n",
        "\n",
        "    J = torch.block_diag(*J_diag)\n",
        "    J[D:, :-D] += torch.block_diag(*J_lower_diag)\n",
        "    J[:-D, D:] += torch.block_diag(*torch.transpose(J_lower_diag, 1, 2))\n",
        "    return J"
      ],
      "execution_count": 21,
      "outputs": []
    },
    {
      "cell_type": "markdown",
      "metadata": {
        "id": "aUCTuFyOis4j"
      },
      "source": [
        "## Problem 2c: Implement the LDS decoder\n",
        "\n",
        "Implement the LDS decoder as a PyTorch module, using your derivations from Problem 2a and the helper function above to construct the big $\\mathbf{J}$ matrix and $\\mathbf{h}$ vector. Then use `torch.invert` to convert the natural parameters to mean parameters $\\boldsymbol{\\mu}$ and $\\boldsymbol{\\Sigma}$. \n",
        "\n",
        "As in Part 1, return $\\boldsymbol{\\mu}$ as a `T x 2` tensor and $\\boldsymbol{\\Sigma}$ as a `2T x 2T` tensor.\n",
        "\n",
        "**Note**: Inverting $\\mathbf{J}$ naively takse $O(T^3)$ operations since it's a $2T \\times 2T$ matrix.  We can get this down to $O(T)$ using the Kalman smoother&mdash;a dynamic programming algorithm. We'll talk more about this in class next week or the week after. For now, just pay the cubic price since these matrices aren't that big anyway."
      ]
    },
    {
      "cell_type": "code",
      "metadata": {
        "id": "fwfMZuv71Syj"
      },
      "source": [
        "class LDSDecoder(nn.Module):\n",
        "    def __init__(self, Q0, A, Q, C, d, R):\n",
        "        self.Q0 = to_t(Q0)\n",
        "        self.A = to_t(A)\n",
        "        self.Q = to_t(Q)\n",
        "        self.C = to_t(C)\n",
        "        self.d = to_t(d)\n",
        "        self.R = to_t(R)\n",
        "        super(LDSDecoder, self).__init__()\n",
        "        \n",
        "    def forward(self, spikes):\n",
        "        \"\"\"\n",
        "        spikes: T x num_channels array of spikes for a single trial\n",
        "        returns: (mu, Sigma) where \n",
        "            - mu is the (T x 2) posterior mean of the velocity\n",
        "            - Sigma is the (2 x 2) posterior covariance (the same for all bins)\n",
        "        \"\"\"\n",
        "        # Get the model parameters so we don't always have to reference self\n",
        "        Q0, A, Q, C, d, R = self.Q0, self.A, self.Q, self.C, self.d, self.R\n",
        "\n",
        "        # Convert spikes to tensor, if they're not already\n",
        "        Y = to_t(spikes)\n",
        "        T, _ = Y.shape\n",
        "\n",
        "        # Initialize the diagonal and lower diagonal blocks of J\n",
        "        J_diag = torch.zeros(T, 2, 2)\n",
        "        J_lower_diag = torch.zeros(T-1, 2, 2)\n",
        "\n",
        "        ###\n",
        "        # YOUR CODE BELOW\n",
        "        #\n",
        "        ATQA = A.T @ torch.inverse(Q) @ A\n",
        "        CTRC = C.T @ torch.inverse(R) @ C\n",
        "        QI = torch.inverse(Q)\n",
        "\n",
        "        # Fill in the diagonal blocks of J (TXDXD)\n",
        "        J_11 = torch.inverse(Q0) + ATQA + CTRC\n",
        "        J_tt = QI + ATQA + CTRC\n",
        "        J_TT = QI + CTRC\n",
        "      \n",
        "        J_diag[0] = J_11\n",
        "        J_diag[1:T-1] = J_tt.unsqueeze(0).repeat(T-2, 1, 1)\n",
        "        J_diag[T-1] = J_TT\n",
        "        \n",
        "        # Fill in the lower diagonal blocks of J\n",
        "        J_t_t_1 = -QI @ A\n",
        "        J_lower_diag[:] = J_t_t_1.unsqueeze(0).repeat(T-1, 1, 1)\n",
        "\n",
        "        # Construct the full J matrix\n",
        "        J = symm_block_tridiag(J_diag, J_lower_diag)\n",
        "\n",
        "        # Construct the full h vector\n",
        "        h = (Y - d) @ torch.inverse(R).T @ C\n",
        "        \n",
        "        # Convert to standard parameters\n",
        "        Sigma = torch.inverse(J)\n",
        "        mu = (Sigma @ h.flatten()).reshape(T, 2)\n",
        "        #\n",
        "        ###\n",
        "\n",
        "        return mu, Sigma\n",
        "        \n",
        "# Instantiate the decoder\n",
        "Q0_hat, A_hat, Q_hat = estimate_dynamics_prms(train_data)\n",
        "C_hat, d_hat, R_hat = estimate_emission_prms(train_data)\n",
        "lds_decoder = LDSDecoder(Q0_hat, A_hat, Q_hat, C_hat, d_hat, R_hat)"
      ],
      "execution_count": 25,
      "outputs": []
    },
    {
      "cell_type": "markdown",
      "metadata": {
        "id": "MMoEM8IzkGkx"
      },
      "source": [
        "## Plot the decoded positions\n",
        "Once again, that's it! No more fitting required. You already estimated the parametes in Problems 1a and 1b. Now we'll decode the velocities from the test set and integrate them to get positions that we can compare to the true cursor trajectories."
      ]
    },
    {
      "cell_type": "code",
      "metadata": {
        "id": "PfYCrpZj2Tn9",
        "colab": {
          "base_uri": "https://localhost:8080/",
          "height": 341,
          "referenced_widgets": [
            "713267ff434440019fb803176d7d26cc",
            "137d30f77dfb43ccabf7a72f78c0f9e6",
            "6a0a26dc1e544579b70557d200349be4",
            "8acf6ca562534d3293d427e09ab079c9",
            "de94e56c986d4b2b9840ca810d43ee41",
            "5b77f1c1a50a4bc7becc4a6c739e4417",
            "78d6b226cdf84ad39bb08be2bac03a14",
            "b4650773d75742f58c8e17b5346bc5d9"
          ]
        },
        "outputId": "e058a576-616c-4e27-ea61-c1fd4e434bf6"
      },
      "source": [
        "plot_decoder(test_data, lds_decoder)"
      ],
      "execution_count": 26,
      "outputs": [
        {
          "output_type": "display_data",
          "data": {
            "application/vnd.jupyter.widget-view+json": {
              "model_id": "713267ff434440019fb803176d7d26cc",
              "version_minor": 0,
              "version_major": 2
            },
            "text/plain": [
              "HBox(children=(FloatProgress(value=0.0, max=106.0), HTML(value='')))"
            ]
          },
          "metadata": {
            "tags": []
          }
        },
        {
          "output_type": "stream",
          "text": [
            "\n"
          ],
          "name": "stdout"
        },
        {
          "output_type": "display_data",
          "data": {
            "image/png": "[encoded data removed]",
            "text/plain": [
              "<Figure size 576x288 with 2 Axes>"
            ]
          },
          "metadata": {
            "tags": [],
            "needs_background": "light"
          }
        }
      ]
    },
    {
      "cell_type": "markdown",
      "metadata": {
        "id": "PY9GUcYRkOZS"
      },
      "source": [
        "## Problem 2d: [Short answer] Discuss your results\n",
        "\n",
        "_Answer below this line_\n",
        "\n",
        "---\n",
        "\n",
        "The cursor position is now much smoother as the velocity is time-dependent, meaning we are now accounting for temporal correlations of velocity. This presents us with velocities that are partially based on previous velocity, creating a smoother trajectory. However, the magnitudes of the velocities still seem too large, and when the monkey is moving from out to center, the velocity does not seem to be pointing in the correct direction."
      ]
    },
    {
      "cell_type": "markdown",
      "metadata": {
        "id": "ThUIrzd7iyWW"
      },
      "source": [
        "# Part 3: Direct decoding with a LDS-inspired model\n",
        "\n",
        "One of the limitations of the LDS in Part 2 is that it treated the spikes as a **linear function** of the instantaneous velocity with **additive Gaussian** noise. We could work on the encoder and instead substitute a Poisson GLM for $p(y_t^{(\\ell)} \\mid x_t^{(\\ell)})$, for example, but that would destroy the conjugacy of the model, and the resulting posterior distribution would no longer have a closed form. \n",
        "\n",
        "A common approach to Bayesian inference in \"non-conjugate\" models is to approximate the resulting posterior with a Gaussian distribution; e.g. via Laplace approximation. Note that the Gaussian approximation to the non-conjugate model's posterior is not the same as the posterior under a linear Gaussian model&mdash;it is influenced by the nonlinear likelihood model, for instance.\n",
        "\n",
        "That said, if we're ultimately going to approximate the posterior as a Gaussian, why not just _learn_ to output a Gaussian distribution whose mean and covariance are some function of the spikes $\\mathbf{y}^{(\\ell)}$? There are a few challenges:\n",
        "- The output of the model would include a $2T_\\ell \\times 2T_\\ell$ covariance matrix, which grows quadratically with the length of the input.\n",
        "- Moreover, we want to handle arbitrary length time series ($T_\\ell$ is not fixed). \n",
        "\n",
        "To handle these two concerns, we'll develop a _structured_ prediction model that constrains the Gaussian covariance matrix to mimic that of an LDS. In particular, we'll constrain the inverse covariance matrix (aka the precision matrix) to be block-tridiagonal, as in the LDS. However, we'll allow the diagonal blocks of $\\mathbf{J}$ and the entries in $\\mathbf{h}$ to be learned, nonlinear functions of the spike train.\n",
        "\n",
        "Concretely, we'll implement the following model:\n",
        "\\begin{align}\n",
        "p(\\mathbf{x}^{(\\ell)} \\mid \\mathbf{y}^{(\\ell)}) \n",
        "&= \\mathcal{N}(\\boldsymbol{\\mu}, \\boldsymbol{\\Sigma}) \\\\\n",
        "\\boldsymbol{\\Sigma} &= \\mathbf{J}^{-1}\\\\\n",
        "\\boldsymbol{\\mu} &= \\mathbf{J}^{-1} \\mathbf{h}\n",
        "\\end{align}\n",
        "where $\\mathbf{J}$ and $\\mathbf{h}$ have blocks,\n",
        "\\begin{align}\n",
        "J_{t,t-1} &= -Q^{-1} A \\\\\n",
        "J_{tt} &= Q^{-1} + A^\\top Q^{-1} A + f(\\mathbf{y}_{t-\\Delta:t+\\Delta}^{(\\ell)}) \\\\\n",
        "h_{t} &= g(\\mathbf{y}_{t-\\Delta:t+\\Delta}^{(\\ell)})\n",
        "\\end{align}\n",
        "Here, $f$ and $g$ are learned functions of the data in a window of size $2\\Delta$ around the current bin. \n",
        "(Note that you'll have to handle edge cases in $J_{11}$ and $J_{TT}$ as in Part 2.)\n",
        "\n",
        "This model retains the LDS prior that couples the velocities via a linear Gaussian model, but it allows richer functions of the data in place of the likelihood. Let's see if we can get this model to improve on the decoders above!\n"
      ]
    },
    {
      "cell_type": "markdown",
      "metadata": {
        "id": "pvUN0pBMnPVn"
      },
      "source": [
        "## Problem 3a: Implement a structured decoder with features from a CNN\n",
        "\n",
        "Implement the functions $f$ and $g$ above by first passing the spikes through a `Conv1d` layer with 96 input channels, `interm_dim` output channels, a kernel of size `kernel_size`, and half that padding on either end to obtain a `T x interm_dim` output. Pass the output through a `relu` and then apply two separate linear layers. \n",
        "1. The first linear layer gives you a `Tx2` tensor containing the linear coefficients $h_t$.\n",
        "2. The second layer gives you a `Tx2` tensor which you'll then pass through a softplus to make non-negative. Add those non-negative entries to the diagonals of your precision blocks $J_{tt}$. "
      ]
    },
    {
      "cell_type": "code",
      "metadata": {
        "id": "sLOmJfaDerGl",
        "colab": {
          "base_uri": "https://localhost:8080/"
        },
        "outputId": "65098b1b-5a60-40cf-d5ac-c8258fe9b56b"
      },
      "source": [
        "class StructuredDecoder(nn.Module):\n",
        "    def __init__(self, Q0, A, Q, \n",
        "                 num_channels=96,\n",
        "                 kernel_size=5,\n",
        "                 interm_dim=10):\n",
        "        super(StructuredDecoder, self).__init__()\n",
        "        self.Q0 = to_t(Q0)\n",
        "        self.A = to_t(A)\n",
        "        self.Q = to_t(Q)\n",
        "        \n",
        "        ###\n",
        "        # Initialize the learnable layers\n",
        "        # YOUR CODE BELOW\n",
        "        self.conv = nn.Conv1d(num_channels, interm_dim, kernel_size, \n",
        "                              padding=int(kernel_size/2))\n",
        "        self.relu = nn.ReLU()\n",
        "        self.linear_h = nn.Linear(interm_dim, 2)\n",
        "        self.linear_J = nn.Linear(interm_dim, 2)\n",
        "        self.softplus = nn.Softplus()\n",
        "        #\n",
        "        ###\n",
        "        \n",
        "    def forward(self, spikes):\n",
        "        \"\"\"\n",
        "        spikes: T x 96 array of spikes for a single trial\n",
        "        returns: (mu, Sigma) where \n",
        "            - mu is the (T x 2) posterior mean of the velocity\n",
        "            - Sigma is the (2T x 2T) posterior covariance matrix\n",
        "        \"\"\"\n",
        "        # Get the model parameters so we don't always have to reference self\n",
        "        Q0, A, Q = self.Q0, self.A, self.Q\n",
        "\n",
        "        # Convert spikes to tensor, if they're not already\n",
        "        Y = to_t(spikes)\n",
        "        T, _ = Y.shape\n",
        "\n",
        "        # Initialize the diagonal and lower diagonal blocks of J\n",
        "        J_diag = torch.zeros(T, 2, 2)\n",
        "        J_lower_diag = torch.zeros(T-1, 2, 2)\n",
        "\n",
        "        ###\n",
        "        # YOUR CODE BELOW\n",
        "        #\n",
        "        conv_result = self.conv(Y.T.unsqueeze(0)).squeeze()\n",
        "        result = self.relu(conv_result).T\n",
        "\n",
        "        # h vector\n",
        "        h = self.linear_h(result)\n",
        "\n",
        "        # J offsets\n",
        "        J_offset = self.softplus(self.linear_J(result))\n",
        "\n",
        "        # Building J matrix\n",
        "        QI = torch.inverse(Q)\n",
        "        ATQA = A.T @ QI @ A\n",
        "\n",
        "        # Fill in the diagonal blocks of J\n",
        "        J_11 = torch.inverse(Q0) + ATQA\n",
        "        J_tt = QI + ATQA\n",
        "        J_TT = QI\n",
        "      \n",
        "        J_diag[0] = J_11\n",
        "        J_diag[1:T-1] = J_tt.unsqueeze(0).repeat(T-2, 1, 1)\n",
        "        J_diag[T-1] = J_TT\n",
        "        \n",
        "        # Fill in the lower diagonal blocks of J\n",
        "        J_t_t_1 = -QI @ A\n",
        "        J_lower_diag[:] = J_t_t_1.unsqueeze(0).repeat(T-1, 1, 1)\n",
        "\n",
        "        # Construct the full J matrix\n",
        "        J = symm_block_tridiag(J_diag, J_lower_diag)\n",
        "        J += torch.diag(J_offset.flatten())\n",
        "\n",
        "        Sigma = torch.inverse(J)\n",
        "        mu = (Sigma @ h.flatten()).reshape(T, 2)\n",
        "        #\n",
        "        ###\n",
        "        assert torch.all(torch.isfinite(mu))\n",
        "        assert torch.all(torch.isfinite(Sigma))\n",
        "        return mu, Sigma\n",
        "        \n",
        "torch.manual_seed(0)\n",
        "struct_decoder = StructuredDecoder(Q0_hat, A_hat, Q_hat)\n",
        "mvn_loss(struct_decoder(train_data[0][\"spikes\"]),\n",
        "         train_data[0][\"velocity\"])"
      ],
      "execution_count": 41,
      "outputs": [
        {
          "output_type": "execute_result",
          "data": {
            "text/plain": [
              "tensor(6.6286, grad_fn=<DivBackward0>)"
            ]
          },
          "metadata": {
            "tags": []
          },
          "execution_count": 41
        }
      ]
    },
    {
      "cell_type": "markdown",
      "metadata": {
        "id": "iCcBDeqisLqu"
      },
      "source": [
        "## Train the model"
      ]
    },
    {
      "cell_type": "code",
      "metadata": {
        "id": "4G_fjYDG7H7R",
        "colab": {
          "base_uri": "https://localhost:8080/",
          "height": 497,
          "referenced_widgets": [
            "294a66ae040940d0b93ab69b40d080b9",
            "4b2effe5b19a4fa2acbc895c4ac874d1",
            "9f1f27cd301f48f482e8c14b011e232a",
            "31d3f627d8a54428976ca5cb5e4507f9",
            "eb61305021b845219202b4919ec5c48c",
            "46b255ba5de44ae386e8fd93b3e5fcdb",
            "97202459a0c54bbfba84af88e997d88d",
            "28df7027529b40b78fd1e19f1fe1b386",
            "9ab086afc6054a1a99ccd91b61f60ec7",
            "83b14bda3bf14f25ac2d7256eb81ce2f",
            "1b9a504ca9b742248a37ac1cc3cf776d",
            "f37ff10c23bb4404957213f1d2e27bca",
            "ea98fc8d258d4f24b527157c3634647c",
            "8b35cab811504919954161c4ef5c0547",
            "c61d3be7628f42a1ab5e31c05735b0fc",
            "cfd01065cfbe4af393a7e3261eb51513"
          ]
        },
        "outputId": "7626206b-3382-44a9-f927-7cc8cced0d39"
      },
      "source": [
        "print(\"Training structured decoder model. This should take about 4 minutes...\")\n",
        "train_losses, val_losses = train_model(struct_decoder, \n",
        "                                       train_data[:300], \n",
        "                                       train_data[300:], \n",
        "                                       mvn_loss, \n",
        "                                       lr=1e-4, \n",
        "                                       lr_step_size=100)\n",
        "\n",
        "# Plot the training and validation curves\n",
        "fig, axs = plt.subplots(1, 2, figsize=(10, 5))\n",
        "axs[0].plot(train_losses, color=palette[0], label=\"train\")\n",
        "axs[0].plot(val_losses, color=palette[1], ls='--', label=\"validation\")\n",
        "axs[0].set_xlabel(\"epoch\")\n",
        "axs[0].set_ylabel(\"loss\")\n",
        "axs[0].grid(True)\n",
        "axs[0].legend(loc=\"upper right\")\n",
        "\n",
        "axs[1].plot(train_losses, color=palette[0], label=\"train\")\n",
        "axs[1].plot(val_losses, color=palette[1], ls='--', label=\"validation\")\n",
        "axs[1].set_xlabel(\"epoch\")\n",
        "axs[1].set_ylabel(\"loss\")\n",
        "axs[1].set_ylim(top=val_losses[20])\n",
        "axs[1].grid(True)\n",
        "\n",
        "plt.tight_layout()"
      ],
      "execution_count": 42,
      "outputs": [
        {
          "output_type": "stream",
          "text": [
            "Training structured decoder model. This should take about 4 minutes...\n"
          ],
          "name": "stdout"
        },
        {
          "output_type": "display_data",
          "data": {
            "application/vnd.jupyter.widget-view+json": {
              "model_id": "294a66ae040940d0b93ab69b40d080b9",
              "version_minor": 0,
              "version_major": 2
            },
            "text/plain": [
              "HBox(children=(FloatProgress(value=0.0), HTML(value='')))"
            ]
          },
          "metadata": {
            "tags": []
          }
        },
        {
          "output_type": "display_data",
          "data": {
            "application/vnd.jupyter.widget-view+json": {
              "model_id": "9ab086afc6054a1a99ccd91b61f60ec7",
              "version_minor": 0,
              "version_major": 2
            },
            "text/plain": [
              "HBox(children=(FloatProgress(value=0.0, max=300.0), HTML(value='')))"
            ]
          },
          "metadata": {
            "tags": []
          }
        },
        {
          "output_type": "stream",
          "text": [
            "/usr/local/lib/python3.7/dist-packages/ipykernel_launcher.py:42: UserWarning: To copy construct from a tensor, it is recommended to use sourceTensor.clone().detach() or sourceTensor.clone().detach().requires_grad_(True), rather than torch.tensor(sourceTensor).\n"
          ],
          "name": "stderr"
        },
        {
          "output_type": "stream",
          "text": [
            "\n"
          ],
          "name": "stdout"
        },
        {
          "output_type": "display_data",
          "data": {
            "image/png": "[encoded data removed]",
            "text/plain": [
              "<Figure size 720x360 with 2 Axes>"
            ]
          },
          "metadata": {
            "tags": [],
            "needs_background": "light"
          }
        }
      ]
    },
    {
      "cell_type": "markdown",
      "metadata": {
        "id": "hf79fdOcsS0f"
      },
      "source": [
        "## Plot the decoded movements "
      ]
    },
    {
      "cell_type": "code",
      "metadata": {
        "id": "rsMCkwZkCqd0",
        "colab": {
          "base_uri": "https://localhost:8080/",
          "height": 341,
          "referenced_widgets": [
            "cc95b6e381fc482a94a081d66f46eec5",
            "ff33ff9fd8f048448736ae1781a6ee38",
            "96694f32d20a4b62a81b857d5f370b9e",
            "204f0bdc490e465d8b0c526ac8335b71",
            "770259cf3521467d85baf6f900d5711e",
            "c7cfb957f3ba40d4b17399088159f7dd",
            "6929ac61b73046da9bfeefab1e1f43e3",
            "57248d49697f495984490d39e550f3af"
          ]
        },
        "outputId": "3f9a6a52-f43b-4660-d775-3908c83983b3"
      },
      "source": [
        "plot_decoder(test_data, struct_decoder)"
      ],
      "execution_count": 43,
      "outputs": [
        {
          "output_type": "display_data",
          "data": {
            "application/vnd.jupyter.widget-view+json": {
              "model_id": "cc95b6e381fc482a94a081d66f46eec5",
              "version_minor": 0,
              "version_major": 2
            },
            "text/plain": [
              "HBox(children=(FloatProgress(value=0.0, max=106.0), HTML(value='')))"
            ]
          },
          "metadata": {
            "tags": []
          }
        },
        {
          "output_type": "stream",
          "text": [
            "\n"
          ],
          "name": "stdout"
        },
        {
          "output_type": "display_data",
          "data": {
            "image/png": "[encoded data removed]",
            "text/plain": [
              "<Figure size 576x288 with 2 Axes>"
            ]
          },
          "metadata": {
            "tags": [],
            "needs_background": "light"
          }
        }
      ]
    },
    {
      "cell_type": "markdown",
      "metadata": {
        "id": "qZnxJSUxsZYT"
      },
      "source": [
        "## Problem 3b: Compute and report the test loss for all 3 decoders\n",
        "\n",
        "Compute the test loss for all three models, averaging the loss from each test trial. "
      ]
    },
    {
      "cell_type": "code",
      "metadata": {
        "id": "EOBikPa-CVNK",
        "colab": {
          "base_uri": "https://localhost:8080/"
        },
        "outputId": "f667010c-0ced-4c45-ddf7-c09236e6198e"
      },
      "source": [
        "def compute_test_loss(decoder):\n",
        "    \"\"\"\n",
        "    Compute the average loss on the test set\n",
        "    \"\"\"\n",
        "    ###\n",
        "    # YOUR CODE BELOW\n",
        "    avg_nll = 0\n",
        "    for trial in train_data:\n",
        "      vel = trial['velocity']\n",
        "      spikes = trial['spikes']\n",
        "      avg_nll += mvn_loss(decoder(spikes), vel)\n",
        "    avg_nll /= len(train_data)\n",
        "    #\n",
        "    ###\n",
        "    return avg_nll\n",
        "    \n",
        "print(\"Average test loss:\")\n",
        "print(\"Simple:     {:.4f}\".format(from_t(compute_test_loss(simple_decoder))))\n",
        "print(\"LDS:        {:.4f}\".format(from_t(compute_test_loss(lds_decoder))))\n",
        "print(\"Structured: {:.4f}\".format(from_t(compute_test_loss(struct_decoder))))\n"
      ],
      "execution_count": 51,
      "outputs": [
        {
          "output_type": "stream",
          "text": [
            "Average test loss:\n",
            "Simple:     2.6924\n",
            "LDS:        1.2091\n",
            "Structured: 0.8454\n"
          ],
          "name": "stdout"
        }
      ]
    },
    {
      "cell_type": "markdown",
      "metadata": {
        "id": "05DtI2DssrFL"
      },
      "source": [
        "# Part 4: Discussion\n",
        "\n",
        "Write a few paragraphs summarizing what you learned in this lab. \n",
        "\n",
        "Here are a few prompts to consider (no need to respond to all; these are just to spark some ideas):\n",
        "\n",
        "- Do the numerical results match your intuitive judgements of decoding quality?\n",
        "- How might you generalize the structured decoder?\n",
        "- What might you expect if you tried to directly decode cursor position instead of velocity?\n",
        "- Decoding performance could be limited by either the raw amount of information about movement contained in the neural activity, or by the particular form of decoder that we employed. What do you think the limiting factor is in this lab?\n",
        "- We only plotted the mean of the decoder, $\\boldsymbol{\\mu}$. What could you learn from the covariance $\\boldsymbol{\\Sigma}$?\n",
        "- Are the weights of the structured decoder in Part 3 interpretable?\n",
        "- Suppose we wanted to use the decoder to control a prosthetic limb and we needed it to work for months or years at a time. Would you expect the same decoder parameters to work throughout that time course, and if not, how might you adapt the decoder over time to maintain or potentially even improve performance?\n",
        "\n",
        "_Answer below this line_\n",
        "\n",
        "---\n",
        "\n",
        "The numerical results do not really match my intuitive judgement of the decoder quality when looking at the plotted decoders. I would have expected the LDS decoder to have less loss than the structured decoder simply based on the plots.However, it makes sense that the simple bayesian decoder performed the worst.\n",
        "\n",
        "If we were directly decoding the cursor position rather than the velocity, than I think the position of the cursor would jump all over the place and there would be no clear trajectory over time. If we are predicting position based on spiking, than a change of neural activity could cause the cursor position to jump across the screen with no correlation over time.\n",
        "\n",
        "In this lab, the limiting factor I believe is the decoder we are using. I think if we used a Kalman filter to decode, we would potentially get more accurate results as the Kalman filter acts as a smoother which predicts next velocity based on previous velocity as well as neural activity, similar to some of the approaches we used above.\n",
        "\n",
        "If we are using the decoder to control a prosthetic limb, we may want it be dynamic and adapt as the user is learning to adapt to the prosthetic limb and how to control it. With a closed-loop decoder adaptation algorithm such as a maximum likelihood estimate to update the parameters of a decoder such as the Kalman filter either in real-time or in batches. For example, I used SmoothBatch in my undergraduate time at University of Washington, which is an algorithm that adjusts the decoder parameters every 1-2 minutes, using the previous decoder parameters as a starting point. However, as the user adapts to the prosthetic limb and gains maximum control, we will eventually want to fix the decoder parameters so that the controls of the prosthetic limb stay fixed for the user and do not degrade.\n"
      ]
    },
    {
      "cell_type": "markdown",
      "metadata": {
        "id": "ciDpg7PKuNX7"
      },
      "source": [
        "# Submission Instructions\n",
        "\n",
        "\n",
        "**Formatting:** check that your code does not exceed 80 characters in line width. You can set _Tools &rarr; Settings &rarr; Editor &rarr; Vertical ruler column_ to 80 to see when you've exceeded the limit. \n",
        "\n",
        "Download your notebook in .ipynb format and use the following commands to convert it to PDF. \n",
        "\n",
        "**Option 1 (best case): ipynb &rarr; pdf** Run the following command to convert to a PDF:\n",
        "```\n",
        "jupyter nbconvert --to pdf lab6_teamname.ipynb\n",
        "```\n",
        "\n",
        "Unfortunately, `nbconvert` sometimes crashes with long notebooks. If that happens, here are a few options:\n",
        "\n",
        "\n",
        "**Option 2 (next best): ipynb &rarr; tex &rarr; pdf**:\n",
        "```\n",
        "jupyter nbconvert --to latex lab6_teamname.ipynb\n",
        "pdflatex lab6_teamname.tex\n",
        "```\n",
        "\n",
        "**Option 3: ipynb &rarr; html &rarr; pdf**:\n",
        "```\n",
        "jupyter nbconvert --to html lab6_teamname.ipynb\n",
        "# open lab6_teamname.html in browser and print to pdf\n",
        "```\n",
        "\n",
        "**Dependencies:**\n",
        "\n",
        "- `nbconvert`: If you're using Anaconda for package management, \n",
        "```\n",
        "conda install -c anaconda nbconvert\n",
        "```\n",
        "- `pdflatex`: It comes with standard TeX distributions like TeXLive, MacTex, etc. Alternatively, you can upload the .tex and supporting files to Overleaf (free with Stanford address) and use it to compile to pdf.\n",
        "\n",
        "**Upload** your .ipynb and .pdf files to Gradescope. \n",
        "\n",
        "**Only one submission per team!**"
      ]
    }
  ]
}